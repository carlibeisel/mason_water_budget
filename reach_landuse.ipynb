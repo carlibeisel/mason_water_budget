{
  "cells": [
    {
      "cell_type": "markdown",
      "metadata": {
        "id": "view-in-github",
        "colab_type": "text"
      },
      "source": [
        "<a href=\"https://colab.research.google.com/github/carlibeisel/mason_water_budget/blob/main/reach_landuse.ipynb\" target=\"_parent\"><img src=\"https://colab.research.google.com/assets/colab-badge.svg\" alt=\"Open In Colab\"/></a>"
      ]
    },
    {
      "cell_type": "markdown",
      "metadata": {
        "id": "RKAWBZgEUDXN"
      },
      "source": [
        "Carli Beisel\n",
        "\n",
        "September 16, 2024\n",
        "\n",
        "Purpose: Identify urban proportion and crop type in each reach within Mason"
      ]
    },
    {
      "cell_type": "markdown",
      "metadata": {
        "id": "ICNy7eKiKuGg"
      },
      "source": [
        "## Urbanization"
      ]
    },
    {
      "cell_type": "code",
      "execution_count": 1,
      "metadata": {
        "colab": {
          "base_uri": "https://localhost:8080/"
        },
        "id": "Nj-1FIjaT_BT",
        "outputId": "23ebfa2d-caa9-444c-ce02-2bcf9b3f53fa"
      },
      "outputs": [
        {
          "output_type": "stream",
          "name": "stdout",
          "text": [
            "Collecting rasterio\n",
            "  Downloading rasterio-1.4.3-cp311-cp311-manylinux_2_17_x86_64.manylinux2014_x86_64.whl.metadata (9.1 kB)\n",
            "Collecting affine (from rasterio)\n",
            "  Downloading affine-2.4.0-py3-none-any.whl.metadata (4.0 kB)\n",
            "Requirement already satisfied: attrs in /usr/local/lib/python3.11/dist-packages (from rasterio) (25.3.0)\n",
            "Requirement already satisfied: certifi in /usr/local/lib/python3.11/dist-packages (from rasterio) (2025.1.31)\n",
            "Requirement already satisfied: click>=4.0 in /usr/local/lib/python3.11/dist-packages (from rasterio) (8.1.8)\n",
            "Collecting cligj>=0.5 (from rasterio)\n",
            "  Downloading cligj-0.7.2-py3-none-any.whl.metadata (5.0 kB)\n",
            "Requirement already satisfied: numpy>=1.24 in /usr/local/lib/python3.11/dist-packages (from rasterio) (2.0.2)\n",
            "Collecting click-plugins (from rasterio)\n",
            "  Downloading click_plugins-1.1.1-py2.py3-none-any.whl.metadata (6.4 kB)\n",
            "Requirement already satisfied: pyparsing in /usr/local/lib/python3.11/dist-packages (from rasterio) (3.2.3)\n",
            "Downloading rasterio-1.4.3-cp311-cp311-manylinux_2_17_x86_64.manylinux2014_x86_64.whl (22.2 MB)\n",
            "\u001b[2K   \u001b[90m━━━━━━━━━━━━━━━━━━━━━━━━━━━━━━━━━━━━━━━━\u001b[0m \u001b[32m22.2/22.2 MB\u001b[0m \u001b[31m27.7 MB/s\u001b[0m eta \u001b[36m0:00:00\u001b[0m\n",
            "\u001b[?25hDownloading cligj-0.7.2-py3-none-any.whl (7.1 kB)\n",
            "Downloading affine-2.4.0-py3-none-any.whl (15 kB)\n",
            "Downloading click_plugins-1.1.1-py2.py3-none-any.whl (7.5 kB)\n",
            "Installing collected packages: cligj, click-plugins, affine, rasterio\n",
            "Successfully installed affine-2.4.0 click-plugins-1.1.1 cligj-0.7.2 rasterio-1.4.3\n",
            "Mounted at /content/drive\n"
          ]
        }
      ],
      "source": [
        "# ------------------ #\n",
        "#  Import Libraries  #\n",
        "# ------------------ #\n",
        "import numpy as np\n",
        "import pandas as pd\n",
        "import geopandas as gpd\n",
        "import matplotlib.pyplot as plt\n",
        "!pip install rasterio\n",
        "import rasterio\n",
        "import rasterio.features\n",
        "from rasterio import mask\n",
        "from rasterio.crs import CRS\n",
        "from shapely.geometry import box\n",
        "import glob\n",
        "import os\n",
        "import json\n",
        "\n",
        "#connect to google drive\n",
        "from google.colab import drive\n",
        "drive.mount('/content/drive')"
      ]
    },
    {
      "cell_type": "code",
      "execution_count": 2,
      "metadata": {
        "id": "XA8RElnyUL5x"
      },
      "outputs": [],
      "source": [
        "# --------------- #\n",
        "#   Load Files    #\n",
        "# --------------- #\n",
        "\n",
        "reaches = gpd.read_file('/content/drive/MyDrive/Data/Mason Water Budget/data_input/reach_shapefile/Reaches_Final_1209/Reach_Final.shp')\n",
        "cdl = rasterio.open('/content/drive/MyDrive/Data/Mason Water Budget/data_input/land_cover/mason_cdl/mason2023.tif')\n",
        "irrigation_type = gpd.read_file('/content/drive/MyDrive/Data/Mason Water Budget/data_input/irrigation_runoff/irrigation_runoff.shp')"
      ]
    },
    {
      "cell_type": "code",
      "source": [
        "# --------------- #\n",
        "# Area of each reach\n",
        "# --------------- #\n",
        "\n",
        "\n",
        "reaches = reaches.to_crs(epsg=5070)\n",
        "\n",
        "reaches['area_m2'] = reaches.geometry.area\n",
        "reaches['area_mi2'] = reaches['area_m2'] / 2_589_988.11  # Conversion to miles\n",
        "\n",
        "reach_areas_mi2 = reaches[['Reach', 'area_mi2']]\n",
        "print(\"Area in square miles:\")\n",
        "print(reach_areas_mi2)"
      ],
      "metadata": {
        "colab": {
          "base_uri": "https://localhost:8080/"
        },
        "id": "6GRlVkScVw8s",
        "outputId": "6b857022-28d1-496f-c072-05e7ae1e3253"
      },
      "execution_count": 3,
      "outputs": [
        {
          "output_type": "stream",
          "name": "stdout",
          "text": [
            "Area in square miles:\n",
            "           Reach  area_mi2\n",
            "0    Noble Drain  3.728043\n",
            "1   Purdum Reach  1.693426\n",
            "2  Solomon Reach  3.436166\n",
            "3        Reach 1  3.898848\n",
            "4        Reach 2  5.021585\n",
            "5        Reach 3  0.831347\n"
          ]
        }
      ]
    },
    {
      "cell_type": "code",
      "source": [
        "## ------------------------------ ##\n",
        "##  Mask CDL Layer to Each Reach  ##\n",
        "## ------------------------------ ##\n",
        "\n",
        "# Load the shapefile and raster\n",
        "shapefile_path = '/content/drive/MyDrive/Data/Mason Water Budget/data_input/reach_shapefile/Reaches_Final_1209/Reach_Final.shp'\n",
        "raster_path = '/content/drive/MyDrive/Data/Mason Water Budget/data_input/land_cover/mason_cdl/mason2023.tif'\n",
        "output_dir = '/content/drive/MyDrive/Data/Mason Water Budget/data_input/land_cover/masked_2023'\n",
        "\n",
        "# Read shapefile and raster\n",
        "shp_file = gpd.read_file(shapefile_path)\n",
        "with rasterio.open(raster_path) as src:\n",
        "    print(f\"Raster CRS: {src.crs}\")\n",
        "    print(f\"Shapefile CRS: {shp_file.crs}\")\n",
        "\n",
        "    # Reproject the shapefile to match raster CRS\n",
        "    shp_file = shp_file.to_crs(src.crs)\n",
        "\n",
        "    # Explicitly use mask function\n",
        "    mask_function = rasterio.mask.mask\n",
        "\n",
        "    # Loop through each geometry and mask the raster\n",
        "    for i, row in shp_file.iterrows():\n",
        "        try:\n",
        "            # Use geometry directly\n",
        "            geometry = [row['geometry'].__geo_interface__]\n",
        "\n",
        "            # Ensure geometry intersects the raster\n",
        "            if not row['geometry'].intersects(box(*src.bounds)):\n",
        "                print(f\"Geometry '{row['Reach']}' does not intersect raster. Skipping...\")\n",
        "                continue\n",
        "\n",
        "            # Mask raster\n",
        "            out_img, out_transform = mask_function(src, shapes=geometry, crop=True, nodata=0)\n",
        "\n",
        "            # Update metadata\n",
        "            out_meta = src.meta.copy()\n",
        "            out_meta.update({\n",
        "                \"driver\": \"GTiff\",\n",
        "                \"height\": out_img.shape[1],\n",
        "                \"width\": out_img.shape[2],\n",
        "                \"transform\": out_transform,\n",
        "                \"nodata\": 0\n",
        "            })\n",
        "\n",
        "            # Save the masked raster\n",
        "            feature_name = row['Reach']\n",
        "            out_filename = os.path.join(output_dir, f\"{feature_name}.tif\")\n",
        "            with rasterio.open(out_filename, 'w', **out_meta) as dest:\n",
        "                dest.write(out_img[0], 1)\n",
        "\n",
        "            print(f\"Saved cropped raster for '{feature_name}' to {out_filename}\")\n",
        "\n",
        "        except Exception as e:\n",
        "            print(f\"Error processing '{row['Reach']}': {e}\")"
      ],
      "metadata": {
        "colab": {
          "base_uri": "https://localhost:8080/"
        },
        "id": "x4-9tAlNgRgR",
        "outputId": "8015b71e-c4fb-4220-d1e5-50d4c1e05ba5"
      },
      "execution_count": 4,
      "outputs": [
        {
          "output_type": "stream",
          "name": "stdout",
          "text": [
            "Raster CRS: EPSG:5070\n",
            "Shapefile CRS: EPSG:4326\n",
            "Saved cropped raster for 'Noble Drain' to /content/drive/MyDrive/Data/Mason Water Budget/data_input/land_cover/masked_2023/Noble Drain.tif\n",
            "Saved cropped raster for 'Purdum Reach' to /content/drive/MyDrive/Data/Mason Water Budget/data_input/land_cover/masked_2023/Purdum Reach.tif\n",
            "Saved cropped raster for 'Solomon Reach' to /content/drive/MyDrive/Data/Mason Water Budget/data_input/land_cover/masked_2023/Solomon Reach.tif\n",
            "Saved cropped raster for 'Reach 1' to /content/drive/MyDrive/Data/Mason Water Budget/data_input/land_cover/masked_2023/Reach 1.tif\n",
            "Saved cropped raster for 'Reach 2' to /content/drive/MyDrive/Data/Mason Water Budget/data_input/land_cover/masked_2023/Reach 2.tif\n",
            "Saved cropped raster for 'Reach 3' to /content/drive/MyDrive/Data/Mason Water Budget/data_input/land_cover/masked_2023/Reach 3.tif\n"
          ]
        }
      ]
    },
    {
      "cell_type": "code",
      "source": [
        "# ---------------------------- #\n",
        "#    Characterization: Urban\n",
        "# ---------------------------- #\n",
        "masked_cdl_dir = '/content/drive/MyDrive/Data/Mason Water Budget/data_input/land_cover/masked_2023'\n",
        "reach_shapefile = '/content/drive/MyDrive/Data/Mason Water Budget/data_input/reach_shapefile/Reaches_Final_1209/Reach_Final.shp'\n",
        "\n",
        "# Load the reach shapefile and ensure it's projected to EPSG:5070\n",
        "gdf_reaches = gpd.read_file(reach_shapefile)\n",
        "if gdf_reaches.crs is not None and gdf_reaches.crs.to_epsg() != 5070:\n",
        "    gdf_reaches = gdf_reaches.to_crs(epsg=5070)\n",
        "\n",
        "# Compute area in square miles\n",
        "gdf_reaches['area_mi2'] = gdf_reaches.geometry.area / 2_589_988.11\n",
        "\n",
        "# Create a dictionary mapping reach names to their areas\n",
        "reach_area_dict = gdf_reaches.set_index('Reach')['area_mi2'].to_dict()\n",
        "\n",
        "# Define crop types for urban land\n",
        "developed_crop_types = {82, 121, 122, 123, 124}\n",
        "\n",
        "data = []\n",
        "masked_files = glob.glob(os.path.join(masked_cdl_dir, '*.tif'))\n",
        "\n",
        "for file_path in masked_files:  # Loop through each reach\n",
        "    reach_name = os.path.basename(file_path).replace('.tif', '')  # Extract reach name from the file name\n",
        "    print(f'Processing file for reach: {reach_name}')\n",
        "\n",
        "    # Retrieve the area of the reach from the dictionary\n",
        "    reach_area_mi2 = reach_area_dict.get(reach_name)\n",
        "    if reach_area_mi2 is None:\n",
        "        print(f\"Warning: Reach {reach_name} not found in shapefile, skipping...\")\n",
        "        continue\n",
        "\n",
        "    with rasterio.open(file_path) as src:\n",
        "        cdl_data = src.read(1)\n",
        "        unique_crop_types, pixel_counts = np.unique(cdl_data, return_counts=True)\n",
        "\n",
        "        # Count pixels for each urbanization type\n",
        "        urban_pixel_counts = {ct: 0 for ct in developed_crop_types}\n",
        "        for crop_type, count in zip(unique_crop_types, pixel_counts):\n",
        "            if crop_type in developed_crop_types:\n",
        "                urban_pixel_counts[crop_type] += count\n",
        "\n",
        "        # Calculate urban areas in square miles\n",
        "        pixel_area = src.res[0] * src.res[1] / 2_589_988.11  # Convert pixel area to square miles\n",
        "        urban_areas = {crop: count * pixel_area for crop, count in urban_pixel_counts.items()}\n",
        "\n",
        "        # Calculate proportion of developed land using the shapefile's reach area\n",
        "        developed_area_mi2 = sum(urban_areas.values())\n",
        "        percent_developed = (100 * developed_area_mi2 / reach_area_mi2) if reach_area_mi2 > 0 else 0\n",
        "\n",
        "        # Append the data for this reach\n",
        "        data.append({\n",
        "            'Reach': reach_name,\n",
        "            'Reach Area(mi²)': reach_area_mi2,\n",
        "            'Urban Area (mi²)': developed_area_mi2,\n",
        "            'High Density Urban (mi²)': urban_areas.get(124, 0),\n",
        "            'Medium Density Urban (mi²)': urban_areas.get(123, 0),\n",
        "            'Low Density Urban (mi²)': urban_areas.get(122, 0),\n",
        "            'Open Space Urban (mi²)': urban_areas.get(121, 0),\n",
        "            'Urban Percent': percent_developed\n",
        "        })\n",
        "\n",
        "urban = pd.DataFrame(data)\n",
        "urban.to_csv('/content/drive/MyDrive/Data/Mason Water Budget/data_output/land_use/urban_area.csv', index=False)"
      ],
      "metadata": {
        "colab": {
          "base_uri": "https://localhost:8080/"
        },
        "id": "QDyQXg5bF2Ah",
        "outputId": "d7ba1ac1-e400-4d91-de0b-04f9b9fd24ac"
      },
      "execution_count": 5,
      "outputs": [
        {
          "output_type": "stream",
          "name": "stdout",
          "text": [
            "Processing file for reach: Noble Drain\n",
            "Processing file for reach: Reach 2\n",
            "Processing file for reach: Solomon Reach\n",
            "Processing file for reach: Reach 1\n",
            "Processing file for reach: Purdum Reach\n",
            "Processing file for reach: Reach 3\n"
          ]
        }
      ]
    },
    {
      "cell_type": "code",
      "source": [
        "# ----------------------------------------- #\n",
        "# FIGURE: Type of Urbanization in each reach\n",
        "# ----------------------------------------- #\n",
        "\n",
        "# Rename columns for legend labels\n",
        "legend_labels = {\n",
        "    'High Density Urban (mi²)': 'High',\n",
        "    'Medium Density Urban (mi²)': 'Medium',\n",
        "    'Low Density Urban (mi²)': 'Low',\n",
        "    'Open Space Urban (mi²)': 'Open Space'\n",
        "}\n",
        "\n",
        "plot_data = urban.set_index('Reach')\n",
        "plot_data = plot_data[list(legend_labels.keys())]  # Ensure correct order\n",
        "plot_data = plot_data.rename(columns=legend_labels)  # Rename columns\n",
        "\n",
        "# Custom colors for urban area\n",
        "custom_colors = {\n",
        "    'High': '#540804',\n",
        "    'Medium': '#C75146',\n",
        "    'Low': '#FF9991',\n",
        "    'Open Space': '#67780B'\n",
        "}\n",
        "\n",
        "# Plot\n",
        "fig, ax = plt.subplots(figsize=(12, 8))\n",
        "plot_data.plot(\n",
        "    kind='bar',\n",
        "    stacked=True,\n",
        "    color=[custom_colors[col] for col in plot_data.columns],\n",
        "    edgecolor='black',\n",
        "    ax=ax\n",
        ")\n",
        "\n",
        "plt.title('', fontsize=20, pad=15)\n",
        "plt.ylabel('Area (mi²)', fontsize=20)\n",
        "plt.xlabel('', fontsize=12)\n",
        "plt.xticks(rotation=45, ha='right', fontsize=18)\n",
        "plt.yticks(fontsize=18)\n",
        "plt.legend(\n",
        "    title='Urban Density',\n",
        "    loc='upper right',\n",
        "    fontsize=16,\n",
        "    title_fontsize=18\n",
        ")\n",
        "plt.tight_layout()\n",
        "\n",
        "plt.show()\n",
        "plt.savefig('/content/drive/MyDrive/Data/Mason Water Budget/data_output/land_use/Figures/reach urban area.png', dpi=300, bbox_inches='tight')\n",
        "plt.close()"
      ],
      "metadata": {
        "colab": {
          "base_uri": "https://localhost:8080/",
          "height": 807
        },
        "id": "foLTXMuPbYSH",
        "outputId": "11636866-7fda-40d5-b06b-2b3d98a1be74"
      },
      "execution_count": 6,
      "outputs": [
        {
          "output_type": "display_data",
          "data": {
            "text/plain": [
              "<Figure size 1200x800 with 1 Axes>"
            ],
            "image/png": "[encoded data removed]"
          },
          "metadata": {}
        }
      ]
    },
    {
      "cell_type": "markdown",
      "source": [
        "## Crops, pasture, and urban\n"
      ],
      "metadata": {
        "id": "IaFwm4-LvMHL"
      }
    },
    {
      "cell_type": "code",
      "source": [
        "# ---------------------------- #\n",
        "#    Characterization: Ag Land\n",
        "# ---------------------------- #\n",
        "\n",
        "masked_cdl_dir = '/content/drive/MyDrive/Data/Mason Water Budget/data_input/land_cover/masked_2023'\n",
        "reach_shapefile = '/content/drive/MyDrive/Data/Mason Water Budget/data_input/reach_shapefile/Reaches_Final_1209/Reach_Final.shp'\n",
        "gdf_reaches = gpd.read_file(reach_shapefile)\n",
        "if gdf_reaches.crs is not None and gdf_reaches.crs.to_epsg() != 5070:\n",
        "    gdf_reaches = gdf_reaches.to_crs(epsg=5070)\n",
        "gdf_reaches['area_mi2'] = gdf_reaches.geometry.area / 2_589_988.11\n",
        "reach_area_dict = gdf_reaches.set_index('Reach')['area_mi2'].to_dict()\n",
        "\n",
        "agriculture_crop_types = {1, 2, 3, 4, 5, 6, 10, 12, 14, 21, 23, 24, 26, 27, 28, 29, 36, 37, 38, 39, 41, 42, 43, 45, 46, 47, 48, 49, 50, 51, 52, 53, 54, 55, 56, 57, 58, 59, 60, 61, 62, 63, 64, 65, 66, 67, 68, 69, 70, 71, 72, 74, 75, 76, 77, 204}  # Include all CDL agricultural land types\n",
        "\n",
        "data = []\n",
        "masked_files = glob.glob(os.path.join(masked_cdl_dir, '*.tif'))\n",
        "\n",
        "for file_path in masked_files:\n",
        "    reach_name = os.path.basename(file_path).replace('.tif', '')\n",
        "    print(f'Processing file for reach: {reach_name}')\n",
        "    reach_area_mi2 = reach_area_dict.get(reach_name)\n",
        "    if reach_area_mi2 is None:\n",
        "        print(f\"Warning: Reach {reach_name} not found in shapefile, skipping...\")\n",
        "        continue\n",
        "\n",
        "    with rasterio.open(file_path) as src:\n",
        "        cdl_data = src.read(1)\n",
        "        unique_crop_types, pixel_counts = np.unique(cdl_data, return_counts=True)\n",
        "        ag_pixel_counts = {ct: 0 for ct in agriculture_crop_types}\n",
        "        for crop_type, count in zip(unique_crop_types, pixel_counts):\n",
        "            if crop_type in agriculture_crop_types:\n",
        "                ag_pixel_counts[crop_type] += count\n",
        "        pixel_area = src.res[0] * src.res[1] / 2_589_988.11\n",
        "        ag_areas = {crop: count * pixel_area for crop, count in ag_pixel_counts.items()}\n",
        "        total_agriculture_area_mi2 = sum(ag_areas.values())\n",
        "        percent_agriculture = (100 * total_agriculture_area_mi2 / reach_area_mi2) if reach_area_mi2 > 0 else 0\n",
        "        data.append({\n",
        "            'Reach': reach_name,\n",
        "            'Reach Area (mi²)': reach_area_mi2,\n",
        "            'Agricultural Area (mi²)': total_agriculture_area_mi2,\n",
        "            'Agricultural Percent': percent_agriculture\n",
        "        })\n",
        "\n",
        "agriculture_df = pd.DataFrame(data)\n",
        "agriculture_df.to_csv('/content/drive/MyDrive/Data/Mason Water Budget/data_output/land_use/agriculture_area.csv', index=False)"
      ],
      "metadata": {
        "id": "aEHlxaI7aP-s"
      },
      "execution_count": null,
      "outputs": []
    },
    {
      "cell_type": "markdown",
      "metadata": {
        "id": "RFfJbG47QFUd"
      },
      "source": [
        "## Irrigation Type\n"
      ]
    },
    {
      "cell_type": "code",
      "execution_count": null,
      "metadata": {
        "colab": {
          "base_uri": "https://localhost:8080/"
        },
        "id": "ORSU83vyQPVk",
        "outputId": "338ecac8-d9aa-497d-99ca-c85b1c536473"
      },
      "outputs": [
        {
          "output_type": "stream",
          "name": "stdout",
          "text": [
            "Mounted at /content/drive\n"
          ]
        }
      ],
      "source": [
        "# ------------------ #\n",
        "#  Import Libraries  #\n",
        "# ------------------ #\n",
        "import numpy as np\n",
        "import pandas as pd\n",
        "import geopandas as gpd\n",
        "import matplotlib.pyplot as plt\n",
        "\n",
        "#connect to google drive\n",
        "from google.colab import drive\n",
        "drive.mount('/content/drive')"
      ]
    },
    {
      "cell_type": "code",
      "execution_count": null,
      "metadata": {
        "id": "DUUouPjVTNhd"
      },
      "outputs": [],
      "source": [
        "# --------------- #\n",
        "#   Load Files    #\n",
        "# --------------- #\n",
        "reaches = gpd.read_file('/content/drive/MyDrive/Data/Mason Water Budget/data_input/reach_shapefile/Reaches_Final_1209/Reach_Final.shp')\n",
        "\n",
        "urban = pd.read_csv('/content/drive/MyDrive/Data/Mason Water Budget/data_output/land_use/urban_area.csv')\n",
        "\n",
        "# FWT shapefile of irrigation type based on ML, satellite imagery, & OpenET\n",
        "irrigation_type = gpd.read_file('/content/drive/MyDrive/Data/Mason Water Budget/data_input/irrigation_runoff/irrigation_runoff.shp')"
      ]
    },
    {
      "cell_type": "code",
      "source": [
        "# ----------------------------------- #\n",
        "#   Irrigation Type for each Reach    #\n",
        "# ----------------------------------- #\n",
        "\n",
        "irrigation_type = irrigation_type.to_crs(reaches.crs)\n",
        "intersection = gpd.overlay(reaches, irrigation_type, how='intersection')\n",
        "intersection['area_mi2'] = intersection.geometry.area /2_589_988.11 #convert from m2 to mi2\n",
        "irrigation_areas_by_reach = intersection.groupby(['Reach', 'irr_type_y'])['area_mi2'].sum().reset_index()\n",
        "irrig_type = irrigation_areas_by_reach.pivot(index='Reach', columns='irr_type_y', values='area_mi2').fillna(0)\n",
        "irrig_type['Total Irrigated Area (mi²)'] = irrig_type.sum(axis=1)\n",
        "irrig_type = irrig_type.reset_index()\n",
        "irrig_type"
      ],
      "metadata": {
        "colab": {
          "base_uri": "https://localhost:8080/",
          "height": 238
        },
        "id": "F7HRdUx4kINn",
        "outputId": "e1969481-b361-475e-c3eb-0f0a5e8dac7f"
      },
      "execution_count": null,
      "outputs": [
        {
          "output_type": "execute_result",
          "data": {
            "text/plain": [
              "irr_type_y          Reach     Flood  Not Irrigated  Sprinkler  \\\n",
              "0             Noble Drain  0.904862       0.028579   0.095342   \n",
              "1            Purdum Reach  0.275848       0.000000   0.000000   \n",
              "2                 Reach 1  0.525283       0.030917   0.063984   \n",
              "3                 Reach 2  3.069833       0.019219   0.019298   \n",
              "4                 Reach 3  0.469802       0.012461   0.013003   \n",
              "5           Solomon Reach  0.918090       0.017209   0.030935   \n",
              "\n",
              "irr_type_y  Total Irrigated Area (mi²)  \n",
              "0                             1.028783  \n",
              "1                             0.275848  \n",
              "2                             0.620184  \n",
              "3                             3.108350  \n",
              "4                             0.495267  \n",
              "5                             0.966233  "
            ],
            "text/html": [
              "\n",
              "  <div id=\"df-4f62a99e-7e50-42e6-b447-98ff3b8763cd\" class=\"colab-df-container\">\n",
              "    <div>\n",
              "<style scoped>\n",
              "    .dataframe tbody tr th:only-of-type {\n",
              "        vertical-align: middle;\n",
              "    }\n",
              "\n",
              "    .dataframe tbody tr th {\n",
              "        vertical-align: top;\n",
              "    }\n",
              "\n",
              "    .dataframe thead th {\n",
              "        text-align: right;\n",
              "    }\n",
              "</style>\n",
              "<table border=\"1\" class=\"dataframe\">\n",
              "  <thead>\n",
              "    <tr style=\"text-align: right;\">\n",
              "      <th>irr_type_y</th>\n",
              "      <th>Reach</th>\n",
              "      <th>Flood</th>\n",
              "      <th>Not Irrigated</th>\n",
              "      <th>Sprinkler</th>\n",
              "      <th>Total Irrigated Area (mi²)</th>\n",
              "    </tr>\n",
              "  </thead>\n",
              "  <tbody>\n",
              "    <tr>\n",
              "      <th>0</th>\n",
              "      <td>Noble Drain</td>\n",
              "      <td>0.904862</td>\n",
              "      <td>0.028579</td>\n",
              "      <td>0.095342</td>\n",
              "      <td>1.028783</td>\n",
              "    </tr>\n",
              "    <tr>\n",
              "      <th>1</th>\n",
              "      <td>Purdum Reach</td>\n",
              "      <td>0.275848</td>\n",
              "      <td>0.000000</td>\n",
              "      <td>0.000000</td>\n",
              "      <td>0.275848</td>\n",
              "    </tr>\n",
              "    <tr>\n",
              "      <th>2</th>\n",
              "      <td>Reach 1</td>\n",
              "      <td>0.525283</td>\n",
              "      <td>0.030917</td>\n",
              "      <td>0.063984</td>\n",
              "      <td>0.620184</td>\n",
              "    </tr>\n",
              "    <tr>\n",
              "      <th>3</th>\n",
              "      <td>Reach 2</td>\n",
              "      <td>3.069833</td>\n",
              "      <td>0.019219</td>\n",
              "      <td>0.019298</td>\n",
              "      <td>3.108350</td>\n",
              "    </tr>\n",
              "    <tr>\n",
              "      <th>4</th>\n",
              "      <td>Reach 3</td>\n",
              "      <td>0.469802</td>\n",
              "      <td>0.012461</td>\n",
              "      <td>0.013003</td>\n",
              "      <td>0.495267</td>\n",
              "    </tr>\n",
              "    <tr>\n",
              "      <th>5</th>\n",
              "      <td>Solomon Reach</td>\n",
              "      <td>0.918090</td>\n",
              "      <td>0.017209</td>\n",
              "      <td>0.030935</td>\n",
              "      <td>0.966233</td>\n",
              "    </tr>\n",
              "  </tbody>\n",
              "</table>\n",
              "</div>\n",
              "    <div class=\"colab-df-buttons\">\n",
              "\n",
              "  <div class=\"colab-df-container\">\n",
              "    <button class=\"colab-df-convert\" onclick=\"convertToInteractive('df-4f62a99e-7e50-42e6-b447-98ff3b8763cd')\"\n",
              "            title=\"Convert this dataframe to an interactive table.\"\n",
              "            style=\"display:none;\">\n",
              "\n",
              "  <svg xmlns=\"http://www.w3.org/2000/svg\" height=\"24px\" viewBox=\"0 -960 960 960\">\n",
              "    <path d=\"M120-120v-720h720v720H120Zm60-500h600v-160H180v160Zm220 220h160v-160H400v160Zm0 220h160v-160H400v160ZM180-400h160v-160H180v160Zm440 0h160v-160H620v160ZM180-180h160v-160H180v160Zm440 0h160v-160H620v160Z\"/>\n",
              "  </svg>\n",
              "    </button>\n",
              "\n",
              "  <style>\n",
              "    .colab-df-container {\n",
              "      display:flex;\n",
              "      gap: 12px;\n",
              "    }\n",
              "\n",
              "    .colab-df-convert {\n",
              "      background-color: #E8F0FE;\n",
              "      border: none;\n",
              "      border-radius: 50%;\n",
              "      cursor: pointer;\n",
              "      display: none;\n",
              "      fill: #1967D2;\n",
              "      height: 32px;\n",
              "      padding: 0 0 0 0;\n",
              "      width: 32px;\n",
              "    }\n",
              "\n",
              "    .colab-df-convert:hover {\n",
              "      background-color: #E2EBFA;\n",
              "      box-shadow: 0px 1px 2px rgba(60, 64, 67, 0.3), 0px 1px 3px 1px rgba(60, 64, 67, 0.15);\n",
              "      fill: #174EA6;\n",
              "    }\n",
              "\n",
              "    .colab-df-buttons div {\n",
              "      margin-bottom: 4px;\n",
              "    }\n",
              "\n",
              "    [theme=dark] .colab-df-convert {\n",
              "      background-color: #3B4455;\n",
              "      fill: #D2E3FC;\n",
              "    }\n",
              "\n",
              "    [theme=dark] .colab-df-convert:hover {\n",
              "      background-color: #434B5C;\n",
              "      box-shadow: 0px 1px 3px 1px rgba(0, 0, 0, 0.15);\n",
              "      filter: drop-shadow(0px 1px 2px rgba(0, 0, 0, 0.3));\n",
              "      fill: #FFFFFF;\n",
              "    }\n",
              "  </style>\n",
              "\n",
              "    <script>\n",
              "      const buttonEl =\n",
              "        document.querySelector('#df-4f62a99e-7e50-42e6-b447-98ff3b8763cd button.colab-df-convert');\n",
              "      buttonEl.style.display =\n",
              "        google.colab.kernel.accessAllowed ? 'block' : 'none';\n",
              "\n",
              "      async function convertToInteractive(key) {\n",
              "        const element = document.querySelector('#df-4f62a99e-7e50-42e6-b447-98ff3b8763cd');\n",
              "        const dataTable =\n",
              "          await google.colab.kernel.invokeFunction('convertToInteractive',\n",
              "                                                    [key], {});\n",
              "        if (!dataTable) return;\n",
              "\n",
              "        const docLinkHtml = 'Like what you see? Visit the ' +\n",
              "          '<a target=\"_blank\" href=https://colab.research.google.com/notebooks/data_table.ipynb>data table notebook</a>'\n",
              "          + ' to learn more about interactive tables.';\n",
              "        element.innerHTML = '';\n",
              "        dataTable['output_type'] = 'display_data';\n",
              "        await google.colab.output.renderOutput(dataTable, element);\n",
              "        const docLink = document.createElement('div');\n",
              "        docLink.innerHTML = docLinkHtml;\n",
              "        element.appendChild(docLink);\n",
              "      }\n",
              "    </script>\n",
              "  </div>\n",
              "\n",
              "\n",
              "<div id=\"df-72a44292-743d-4b68-ae54-cbe1989529dc\">\n",
              "  <button class=\"colab-df-quickchart\" onclick=\"quickchart('df-72a44292-743d-4b68-ae54-cbe1989529dc')\"\n",
              "            title=\"Suggest charts\"\n",
              "            style=\"display:none;\">\n",
              "\n",
              "<svg xmlns=\"http://www.w3.org/2000/svg\" height=\"24px\"viewBox=\"0 0 24 24\"\n",
              "     width=\"24px\">\n",
              "    <g>\n",
              "        <path d=\"M19 3H5c-1.1 0-2 .9-2 2v14c0 1.1.9 2 2 2h14c1.1 0 2-.9 2-2V5c0-1.1-.9-2-2-2zM9 17H7v-7h2v7zm4 0h-2V7h2v10zm4 0h-2v-4h2v4z\"/>\n",
              "    </g>\n",
              "</svg>\n",
              "  </button>\n",
              "\n",
              "<style>\n",
              "  .colab-df-quickchart {\n",
              "      --bg-color: #E8F0FE;\n",
              "      --fill-color: #1967D2;\n",
              "      --hover-bg-color: #E2EBFA;\n",
              "      --hover-fill-color: #174EA6;\n",
              "      --disabled-fill-color: #AAA;\n",
              "      --disabled-bg-color: #DDD;\n",
              "  }\n",
              "\n",
              "  [theme=dark] .colab-df-quickchart {\n",
              "      --bg-color: #3B4455;\n",
              "      --fill-color: #D2E3FC;\n",
              "      --hover-bg-color: #434B5C;\n",
              "      --hover-fill-color: #FFFFFF;\n",
              "      --disabled-bg-color: #3B4455;\n",
              "      --disabled-fill-color: #666;\n",
              "  }\n",
              "\n",
              "  .colab-df-quickchart {\n",
              "    background-color: var(--bg-color);\n",
              "    border: none;\n",
              "    border-radius: 50%;\n",
              "    cursor: pointer;\n",
              "    display: none;\n",
              "    fill: var(--fill-color);\n",
              "    height: 32px;\n",
              "    padding: 0;\n",
              "    width: 32px;\n",
              "  }\n",
              "\n",
              "  .colab-df-quickchart:hover {\n",
              "    background-color: var(--hover-bg-color);\n",
              "    box-shadow: 0 1px 2px rgba(60, 64, 67, 0.3), 0 1px 3px 1px rgba(60, 64, 67, 0.15);\n",
              "    fill: var(--button-hover-fill-color);\n",
              "  }\n",
              "\n",
              "  .colab-df-quickchart-complete:disabled,\n",
              "  .colab-df-quickchart-complete:disabled:hover {\n",
              "    background-color: var(--disabled-bg-color);\n",
              "    fill: var(--disabled-fill-color);\n",
              "    box-shadow: none;\n",
              "  }\n",
              "\n",
              "  .colab-df-spinner {\n",
              "    border: 2px solid var(--fill-color);\n",
              "    border-color: transparent;\n",
              "    border-bottom-color: var(--fill-color);\n",
              "    animation:\n",
              "      spin 1s steps(1) infinite;\n",
              "  }\n",
              "\n",
              "  @keyframes spin {\n",
              "    0% {\n",
              "      border-color: transparent;\n",
              "      border-bottom-color: var(--fill-color);\n",
              "      border-left-color: var(--fill-color);\n",
              "    }\n",
              "    20% {\n",
              "      border-color: transparent;\n",
              "      border-left-color: var(--fill-color);\n",
              "      border-top-color: var(--fill-color);\n",
              "    }\n",
              "    30% {\n",
              "      border-color: transparent;\n",
              "      border-left-color: var(--fill-color);\n",
              "      border-top-color: var(--fill-color);\n",
              "      border-right-color: var(--fill-color);\n",
              "    }\n",
              "    40% {\n",
              "      border-color: transparent;\n",
              "      border-right-color: var(--fill-color);\n",
              "      border-top-color: var(--fill-color);\n",
              "    }\n",
              "    60% {\n",
              "      border-color: transparent;\n",
              "      border-right-color: var(--fill-color);\n",
              "    }\n",
              "    80% {\n",
              "      border-color: transparent;\n",
              "      border-right-color: var(--fill-color);\n",
              "      border-bottom-color: var(--fill-color);\n",
              "    }\n",
              "    90% {\n",
              "      border-color: transparent;\n",
              "      border-bottom-color: var(--fill-color);\n",
              "    }\n",
              "  }\n",
              "</style>\n",
              "\n",
              "  <script>\n",
              "    async function quickchart(key) {\n",
              "      const quickchartButtonEl =\n",
              "        document.querySelector('#' + key + ' button');\n",
              "      quickchartButtonEl.disabled = true;  // To prevent multiple clicks.\n",
              "      quickchartButtonEl.classList.add('colab-df-spinner');\n",
              "      try {\n",
              "        const charts = await google.colab.kernel.invokeFunction(\n",
              "            'suggestCharts', [key], {});\n",
              "      } catch (error) {\n",
              "        console.error('Error during call to suggestCharts:', error);\n",
              "      }\n",
              "      quickchartButtonEl.classList.remove('colab-df-spinner');\n",
              "      quickchartButtonEl.classList.add('colab-df-quickchart-complete');\n",
              "    }\n",
              "    (() => {\n",
              "      let quickchartButtonEl =\n",
              "        document.querySelector('#df-72a44292-743d-4b68-ae54-cbe1989529dc button');\n",
              "      quickchartButtonEl.style.display =\n",
              "        google.colab.kernel.accessAllowed ? 'block' : 'none';\n",
              "    })();\n",
              "  </script>\n",
              "</div>\n",
              "\n",
              "  <div id=\"id_bf18e3ba-88d0-4ee1-af05-2d8d1732dff3\">\n",
              "    <style>\n",
              "      .colab-df-generate {\n",
              "        background-color: #E8F0FE;\n",
              "        border: none;\n",
              "        border-radius: 50%;\n",
              "        cursor: pointer;\n",
              "        display: none;\n",
              "        fill: #1967D2;\n",
              "        height: 32px;\n",
              "        padding: 0 0 0 0;\n",
              "        width: 32px;\n",
              "      }\n",
              "\n",
              "      .colab-df-generate:hover {\n",
              "        background-color: #E2EBFA;\n",
              "        box-shadow: 0px 1px 2px rgba(60, 64, 67, 0.3), 0px 1px 3px 1px rgba(60, 64, 67, 0.15);\n",
              "        fill: #174EA6;\n",
              "      }\n",
              "\n",
              "      [theme=dark] .colab-df-generate {\n",
              "        background-color: #3B4455;\n",
              "        fill: #D2E3FC;\n",
              "      }\n",
              "\n",
              "      [theme=dark] .colab-df-generate:hover {\n",
              "        background-color: #434B5C;\n",
              "        box-shadow: 0px 1px 3px 1px rgba(0, 0, 0, 0.15);\n",
              "        filter: drop-shadow(0px 1px 2px rgba(0, 0, 0, 0.3));\n",
              "        fill: #FFFFFF;\n",
              "      }\n",
              "    </style>\n",
              "    <button class=\"colab-df-generate\" onclick=\"generateWithVariable('irrig_type')\"\n",
              "            title=\"Generate code using this dataframe.\"\n",
              "            style=\"display:none;\">\n",
              "\n",
              "  <svg xmlns=\"http://www.w3.org/2000/svg\" height=\"24px\"viewBox=\"0 0 24 24\"\n",
              "       width=\"24px\">\n",
              "    <path d=\"M7,19H8.4L18.45,9,17,7.55,7,17.6ZM5,21V16.75L18.45,3.32a2,2,0,0,1,2.83,0l1.4,1.43a1.91,1.91,0,0,1,.58,1.4,1.91,1.91,0,0,1-.58,1.4L9.25,21ZM18.45,9,17,7.55Zm-12,3A5.31,5.31,0,0,0,4.9,8.1,5.31,5.31,0,0,0,1,6.5,5.31,5.31,0,0,0,4.9,4.9,5.31,5.31,0,0,0,6.5,1,5.31,5.31,0,0,0,8.1,4.9,5.31,5.31,0,0,0,12,6.5,5.46,5.46,0,0,0,6.5,12Z\"/>\n",
              "  </svg>\n",
              "    </button>\n",
              "    <script>\n",
              "      (() => {\n",
              "      const buttonEl =\n",
              "        document.querySelector('#id_bf18e3ba-88d0-4ee1-af05-2d8d1732dff3 button.colab-df-generate');\n",
              "      buttonEl.style.display =\n",
              "        google.colab.kernel.accessAllowed ? 'block' : 'none';\n",
              "\n",
              "      buttonEl.onclick = () => {\n",
              "        google.colab.notebook.generateWithVariable('irrig_type');\n",
              "      }\n",
              "      })();\n",
              "    </script>\n",
              "  </div>\n",
              "\n",
              "    </div>\n",
              "  </div>\n"
            ],
            "application/vnd.google.colaboratory.intrinsic+json": {
              "type": "dataframe",
              "variable_name": "irrig_type",
              "summary": "{\n  \"name\": \"irrig_type\",\n  \"rows\": 6,\n  \"fields\": [\n    {\n      \"column\": \"Reach\",\n      \"properties\": {\n        \"dtype\": \"string\",\n        \"num_unique_values\": 6,\n        \"samples\": [\n          \"Noble Drain\",\n          \"Purdum Reach\",\n          \"Solomon Reach\"\n        ],\n        \"semantic_type\": \"\",\n        \"description\": \"\"\n      }\n    },\n    {\n      \"column\": \"Flood\",\n      \"properties\": {\n        \"dtype\": \"number\",\n        \"std\": 1.032120438652021,\n        \"min\": 0.275847858545036,\n        \"max\": 3.0698326208013276,\n        \"num_unique_values\": 6,\n        \"samples\": [\n          0.904861756222522,\n          0.275847858545036,\n          0.9180897103373066\n        ],\n        \"semantic_type\": \"\",\n        \"description\": \"\"\n      }\n    },\n    {\n      \"column\": \"Not Irrigated\",\n      \"properties\": {\n        \"dtype\": \"number\",\n        \"std\": 0.011274098068900128,\n        \"min\": 0.0,\n        \"max\": 0.03091654926839516,\n        \"num_unique_values\": 6,\n        \"samples\": [\n          0.028579434341361697,\n          0.0,\n          0.017208696066800803\n        ],\n        \"semantic_type\": \"\",\n        \"description\": \"\"\n      }\n    },\n    {\n      \"column\": \"Sprinkler\",\n      \"properties\": {\n        \"dtype\": \"number\",\n        \"std\": 0.03585211288759788,\n        \"min\": 0.0,\n        \"max\": 0.0953418824955599,\n        \"num_unique_values\": 6,\n        \"samples\": [\n          0.0953418824955599,\n          0.0,\n          0.030934621165295353\n        ],\n        \"semantic_type\": \"\",\n        \"description\": \"\"\n      }\n    },\n    {\n      \"column\": \"Total Irrigated Area (mi\\u00b2)\",\n      \"properties\": {\n        \"dtype\": \"number\",\n        \"std\": 1.0324473203679856,\n        \"min\": 0.275847858545036,\n        \"max\": 3.1083495832844465,\n        \"num_unique_values\": 6,\n        \"samples\": [\n          1.0287830730594436,\n          0.275847858545036,\n          0.9662330275694027\n        ],\n        \"semantic_type\": \"\",\n        \"description\": \"\"\n      }\n    }\n  ]\n}"
            }
          },
          "metadata": {},
          "execution_count": 63
        }
      ]
    },
    {
      "cell_type": "code",
      "execution_count": null,
      "metadata": {
        "id": "fsai7M6rgsPi",
        "colab": {
          "base_uri": "https://localhost:8080/",
          "height": 342
        },
        "outputId": "5028ed21-1276-47d7-8071-2eaf67fc7d56"
      },
      "outputs": [
        {
          "output_type": "execute_result",
          "data": {
            "text/plain": [
              "           Reach  Reach Area(mi²)  Urban Area (mi²)  High Density Urban (mi²)  \\\n",
              "0    Noble Drain         3.728043          1.413945                  0.149769   \n",
              "1   Purdum Reach         1.693426          0.822861                  0.007297   \n",
              "2  Solomon Reach         3.436166          1.600895                  0.108765   \n",
              "3        Reach 1         3.898848          2.644066                  0.196680   \n",
              "4        Reach 2         5.021585          0.627223                  0.030927   \n",
              "5        Reach 3         0.831347          0.086525                  0.000000   \n",
              "\n",
              "   Medium Density Urban (mi²)  Low Density Urban (mi²)  \\\n",
              "0                    0.320735                 0.432280   \n",
              "1                    0.089653                 0.316218   \n",
              "2                    0.351314                 0.546952   \n",
              "3                    0.594906                 0.903827   \n",
              "4                    0.095560                 0.144557   \n",
              "5                    0.001390                 0.021197   \n",
              "\n",
              "   Open Space Urban (mi²)  Urban Percent     Flood  Not Irrigated  Sprinkler  \\\n",
              "0                0.511161      37.927267  0.904862       0.028579   0.095342   \n",
              "1                0.409693      48.591483  0.275848       0.000000   0.000000   \n",
              "2                0.593864      46.589582  0.918090       0.017209   0.030935   \n",
              "3                0.948653      67.816598  0.525283       0.030917   0.063984   \n",
              "4                0.356179      12.490536  3.069833       0.019219   0.019298   \n",
              "5                0.063939      10.407868  0.469802       0.012461   0.013003   \n",
              "\n",
              "   Total Irrigated Area (mi²)  Reach Area (mi²)  Agricultural Area (mi²)  \\\n",
              "0                    1.028783          3.728043                 1.543212   \n",
              "1                    0.275848          1.693426                 0.500041   \n",
              "2                    0.966233          3.436166                 1.440702   \n",
              "3                    0.620184          3.898848                 0.864212   \n",
              "4                    3.108350          5.021585                 3.691407   \n",
              "5                    0.495267          0.831347                 0.589346   \n",
              "\n",
              "   Agricultural Percent  \n",
              "0             41.394689  \n",
              "1             29.528355  \n",
              "2             41.927590  \n",
              "3             22.165840  \n",
              "4             73.510785  \n",
              "5             70.890536  "
            ],
            "text/html": [
              "\n",
              "  <div id=\"df-e77d9268-5573-4359-bf08-9b7be7f3f931\" class=\"colab-df-container\">\n",
              "    <div>\n",
              "<style scoped>\n",
              "    .dataframe tbody tr th:only-of-type {\n",
              "        vertical-align: middle;\n",
              "    }\n",
              "\n",
              "    .dataframe tbody tr th {\n",
              "        vertical-align: top;\n",
              "    }\n",
              "\n",
              "    .dataframe thead th {\n",
              "        text-align: right;\n",
              "    }\n",
              "</style>\n",
              "<table border=\"1\" class=\"dataframe\">\n",
              "  <thead>\n",
              "    <tr style=\"text-align: right;\">\n",
              "      <th></th>\n",
              "      <th>Reach</th>\n",
              "      <th>Reach Area(mi²)</th>\n",
              "      <th>Urban Area (mi²)</th>\n",
              "      <th>High Density Urban (mi²)</th>\n",
              "      <th>Medium Density Urban (mi²)</th>\n",
              "      <th>Low Density Urban (mi²)</th>\n",
              "      <th>Open Space Urban (mi²)</th>\n",
              "      <th>Urban Percent</th>\n",
              "      <th>Flood</th>\n",
              "      <th>Not Irrigated</th>\n",
              "      <th>Sprinkler</th>\n",
              "      <th>Total Irrigated Area (mi²)</th>\n",
              "      <th>Reach Area (mi²)</th>\n",
              "      <th>Agricultural Area (mi²)</th>\n",
              "      <th>Agricultural Percent</th>\n",
              "    </tr>\n",
              "  </thead>\n",
              "  <tbody>\n",
              "    <tr>\n",
              "      <th>0</th>\n",
              "      <td>Noble Drain</td>\n",
              "      <td>3.728043</td>\n",
              "      <td>1.413945</td>\n",
              "      <td>0.149769</td>\n",
              "      <td>0.320735</td>\n",
              "      <td>0.432280</td>\n",
              "      <td>0.511161</td>\n",
              "      <td>37.927267</td>\n",
              "      <td>0.904862</td>\n",
              "      <td>0.028579</td>\n",
              "      <td>0.095342</td>\n",
              "      <td>1.028783</td>\n",
              "      <td>3.728043</td>\n",
              "      <td>1.543212</td>\n",
              "      <td>41.394689</td>\n",
              "    </tr>\n",
              "    <tr>\n",
              "      <th>1</th>\n",
              "      <td>Purdum Reach</td>\n",
              "      <td>1.693426</td>\n",
              "      <td>0.822861</td>\n",
              "      <td>0.007297</td>\n",
              "      <td>0.089653</td>\n",
              "      <td>0.316218</td>\n",
              "      <td>0.409693</td>\n",
              "      <td>48.591483</td>\n",
              "      <td>0.275848</td>\n",
              "      <td>0.000000</td>\n",
              "      <td>0.000000</td>\n",
              "      <td>0.275848</td>\n",
              "      <td>1.693426</td>\n",
              "      <td>0.500041</td>\n",
              "      <td>29.528355</td>\n",
              "    </tr>\n",
              "    <tr>\n",
              "      <th>2</th>\n",
              "      <td>Solomon Reach</td>\n",
              "      <td>3.436166</td>\n",
              "      <td>1.600895</td>\n",
              "      <td>0.108765</td>\n",
              "      <td>0.351314</td>\n",
              "      <td>0.546952</td>\n",
              "      <td>0.593864</td>\n",
              "      <td>46.589582</td>\n",
              "      <td>0.918090</td>\n",
              "      <td>0.017209</td>\n",
              "      <td>0.030935</td>\n",
              "      <td>0.966233</td>\n",
              "      <td>3.436166</td>\n",
              "      <td>1.440702</td>\n",
              "      <td>41.927590</td>\n",
              "    </tr>\n",
              "    <tr>\n",
              "      <th>3</th>\n",
              "      <td>Reach 1</td>\n",
              "      <td>3.898848</td>\n",
              "      <td>2.644066</td>\n",
              "      <td>0.196680</td>\n",
              "      <td>0.594906</td>\n",
              "      <td>0.903827</td>\n",
              "      <td>0.948653</td>\n",
              "      <td>67.816598</td>\n",
              "      <td>0.525283</td>\n",
              "      <td>0.030917</td>\n",
              "      <td>0.063984</td>\n",
              "      <td>0.620184</td>\n",
              "      <td>3.898848</td>\n",
              "      <td>0.864212</td>\n",
              "      <td>22.165840</td>\n",
              "    </tr>\n",
              "    <tr>\n",
              "      <th>4</th>\n",
              "      <td>Reach 2</td>\n",
              "      <td>5.021585</td>\n",
              "      <td>0.627223</td>\n",
              "      <td>0.030927</td>\n",
              "      <td>0.095560</td>\n",
              "      <td>0.144557</td>\n",
              "      <td>0.356179</td>\n",
              "      <td>12.490536</td>\n",
              "      <td>3.069833</td>\n",
              "      <td>0.019219</td>\n",
              "      <td>0.019298</td>\n",
              "      <td>3.108350</td>\n",
              "      <td>5.021585</td>\n",
              "      <td>3.691407</td>\n",
              "      <td>73.510785</td>\n",
              "    </tr>\n",
              "    <tr>\n",
              "      <th>5</th>\n",
              "      <td>Reach 3</td>\n",
              "      <td>0.831347</td>\n",
              "      <td>0.086525</td>\n",
              "      <td>0.000000</td>\n",
              "      <td>0.001390</td>\n",
              "      <td>0.021197</td>\n",
              "      <td>0.063939</td>\n",
              "      <td>10.407868</td>\n",
              "      <td>0.469802</td>\n",
              "      <td>0.012461</td>\n",
              "      <td>0.013003</td>\n",
              "      <td>0.495267</td>\n",
              "      <td>0.831347</td>\n",
              "      <td>0.589346</td>\n",
              "      <td>70.890536</td>\n",
              "    </tr>\n",
              "  </tbody>\n",
              "</table>\n",
              "</div>\n",
              "    <div class=\"colab-df-buttons\">\n",
              "\n",
              "  <div class=\"colab-df-container\">\n",
              "    <button class=\"colab-df-convert\" onclick=\"convertToInteractive('df-e77d9268-5573-4359-bf08-9b7be7f3f931')\"\n",
              "            title=\"Convert this dataframe to an interactive table.\"\n",
              "            style=\"display:none;\">\n",
              "\n",
              "  <svg xmlns=\"http://www.w3.org/2000/svg\" height=\"24px\" viewBox=\"0 -960 960 960\">\n",
              "    <path d=\"M120-120v-720h720v720H120Zm60-500h600v-160H180v160Zm220 220h160v-160H400v160Zm0 220h160v-160H400v160ZM180-400h160v-160H180v160Zm440 0h160v-160H620v160ZM180-180h160v-160H180v160Zm440 0h160v-160H620v160Z\"/>\n",
              "  </svg>\n",
              "    </button>\n",
              "\n",
              "  <style>\n",
              "    .colab-df-container {\n",
              "      display:flex;\n",
              "      gap: 12px;\n",
              "    }\n",
              "\n",
              "    .colab-df-convert {\n",
              "      background-color: #E8F0FE;\n",
              "      border: none;\n",
              "      border-radius: 50%;\n",
              "      cursor: pointer;\n",
              "      display: none;\n",
              "      fill: #1967D2;\n",
              "      height: 32px;\n",
              "      padding: 0 0 0 0;\n",
              "      width: 32px;\n",
              "    }\n",
              "\n",
              "    .colab-df-convert:hover {\n",
              "      background-color: #E2EBFA;\n",
              "      box-shadow: 0px 1px 2px rgba(60, 64, 67, 0.3), 0px 1px 3px 1px rgba(60, 64, 67, 0.15);\n",
              "      fill: #174EA6;\n",
              "    }\n",
              "\n",
              "    .colab-df-buttons div {\n",
              "      margin-bottom: 4px;\n",
              "    }\n",
              "\n",
              "    [theme=dark] .colab-df-convert {\n",
              "      background-color: #3B4455;\n",
              "      fill: #D2E3FC;\n",
              "    }\n",
              "\n",
              "    [theme=dark] .colab-df-convert:hover {\n",
              "      background-color: #434B5C;\n",
              "      box-shadow: 0px 1px 3px 1px rgba(0, 0, 0, 0.15);\n",
              "      filter: drop-shadow(0px 1px 2px rgba(0, 0, 0, 0.3));\n",
              "      fill: #FFFFFF;\n",
              "    }\n",
              "  </style>\n",
              "\n",
              "    <script>\n",
              "      const buttonEl =\n",
              "        document.querySelector('#df-e77d9268-5573-4359-bf08-9b7be7f3f931 button.colab-df-convert');\n",
              "      buttonEl.style.display =\n",
              "        google.colab.kernel.accessAllowed ? 'block' : 'none';\n",
              "\n",
              "      async function convertToInteractive(key) {\n",
              "        const element = document.querySelector('#df-e77d9268-5573-4359-bf08-9b7be7f3f931');\n",
              "        const dataTable =\n",
              "          await google.colab.kernel.invokeFunction('convertToInteractive',\n",
              "                                                    [key], {});\n",
              "        if (!dataTable) return;\n",
              "\n",
              "        const docLinkHtml = 'Like what you see? Visit the ' +\n",
              "          '<a target=\"_blank\" href=https://colab.research.google.com/notebooks/data_table.ipynb>data table notebook</a>'\n",
              "          + ' to learn more about interactive tables.';\n",
              "        element.innerHTML = '';\n",
              "        dataTable['output_type'] = 'display_data';\n",
              "        await google.colab.output.renderOutput(dataTable, element);\n",
              "        const docLink = document.createElement('div');\n",
              "        docLink.innerHTML = docLinkHtml;\n",
              "        element.appendChild(docLink);\n",
              "      }\n",
              "    </script>\n",
              "  </div>\n",
              "\n",
              "\n",
              "<div id=\"df-c676141c-57b6-445d-8e1a-4a61be74664e\">\n",
              "  <button class=\"colab-df-quickchart\" onclick=\"quickchart('df-c676141c-57b6-445d-8e1a-4a61be74664e')\"\n",
              "            title=\"Suggest charts\"\n",
              "            style=\"display:none;\">\n",
              "\n",
              "<svg xmlns=\"http://www.w3.org/2000/svg\" height=\"24px\"viewBox=\"0 0 24 24\"\n",
              "     width=\"24px\">\n",
              "    <g>\n",
              "        <path d=\"M19 3H5c-1.1 0-2 .9-2 2v14c0 1.1.9 2 2 2h14c1.1 0 2-.9 2-2V5c0-1.1-.9-2-2-2zM9 17H7v-7h2v7zm4 0h-2V7h2v10zm4 0h-2v-4h2v4z\"/>\n",
              "    </g>\n",
              "</svg>\n",
              "  </button>\n",
              "\n",
              "<style>\n",
              "  .colab-df-quickchart {\n",
              "      --bg-color: #E8F0FE;\n",
              "      --fill-color: #1967D2;\n",
              "      --hover-bg-color: #E2EBFA;\n",
              "      --hover-fill-color: #174EA6;\n",
              "      --disabled-fill-color: #AAA;\n",
              "      --disabled-bg-color: #DDD;\n",
              "  }\n",
              "\n",
              "  [theme=dark] .colab-df-quickchart {\n",
              "      --bg-color: #3B4455;\n",
              "      --fill-color: #D2E3FC;\n",
              "      --hover-bg-color: #434B5C;\n",
              "      --hover-fill-color: #FFFFFF;\n",
              "      --disabled-bg-color: #3B4455;\n",
              "      --disabled-fill-color: #666;\n",
              "  }\n",
              "\n",
              "  .colab-df-quickchart {\n",
              "    background-color: var(--bg-color);\n",
              "    border: none;\n",
              "    border-radius: 50%;\n",
              "    cursor: pointer;\n",
              "    display: none;\n",
              "    fill: var(--fill-color);\n",
              "    height: 32px;\n",
              "    padding: 0;\n",
              "    width: 32px;\n",
              "  }\n",
              "\n",
              "  .colab-df-quickchart:hover {\n",
              "    background-color: var(--hover-bg-color);\n",
              "    box-shadow: 0 1px 2px rgba(60, 64, 67, 0.3), 0 1px 3px 1px rgba(60, 64, 67, 0.15);\n",
              "    fill: var(--button-hover-fill-color);\n",
              "  }\n",
              "\n",
              "  .colab-df-quickchart-complete:disabled,\n",
              "  .colab-df-quickchart-complete:disabled:hover {\n",
              "    background-color: var(--disabled-bg-color);\n",
              "    fill: var(--disabled-fill-color);\n",
              "    box-shadow: none;\n",
              "  }\n",
              "\n",
              "  .colab-df-spinner {\n",
              "    border: 2px solid var(--fill-color);\n",
              "    border-color: transparent;\n",
              "    border-bottom-color: var(--fill-color);\n",
              "    animation:\n",
              "      spin 1s steps(1) infinite;\n",
              "  }\n",
              "\n",
              "  @keyframes spin {\n",
              "    0% {\n",
              "      border-color: transparent;\n",
              "      border-bottom-color: var(--fill-color);\n",
              "      border-left-color: var(--fill-color);\n",
              "    }\n",
              "    20% {\n",
              "      border-color: transparent;\n",
              "      border-left-color: var(--fill-color);\n",
              "      border-top-color: var(--fill-color);\n",
              "    }\n",
              "    30% {\n",
              "      border-color: transparent;\n",
              "      border-left-color: var(--fill-color);\n",
              "      border-top-color: var(--fill-color);\n",
              "      border-right-color: var(--fill-color);\n",
              "    }\n",
              "    40% {\n",
              "      border-color: transparent;\n",
              "      border-right-color: var(--fill-color);\n",
              "      border-top-color: var(--fill-color);\n",
              "    }\n",
              "    60% {\n",
              "      border-color: transparent;\n",
              "      border-right-color: var(--fill-color);\n",
              "    }\n",
              "    80% {\n",
              "      border-color: transparent;\n",
              "      border-right-color: var(--fill-color);\n",
              "      border-bottom-color: var(--fill-color);\n",
              "    }\n",
              "    90% {\n",
              "      border-color: transparent;\n",
              "      border-bottom-color: var(--fill-color);\n",
              "    }\n",
              "  }\n",
              "</style>\n",
              "\n",
              "  <script>\n",
              "    async function quickchart(key) {\n",
              "      const quickchartButtonEl =\n",
              "        document.querySelector('#' + key + ' button');\n",
              "      quickchartButtonEl.disabled = true;  // To prevent multiple clicks.\n",
              "      quickchartButtonEl.classList.add('colab-df-spinner');\n",
              "      try {\n",
              "        const charts = await google.colab.kernel.invokeFunction(\n",
              "            'suggestCharts', [key], {});\n",
              "      } catch (error) {\n",
              "        console.error('Error during call to suggestCharts:', error);\n",
              "      }\n",
              "      quickchartButtonEl.classList.remove('colab-df-spinner');\n",
              "      quickchartButtonEl.classList.add('colab-df-quickchart-complete');\n",
              "    }\n",
              "    (() => {\n",
              "      let quickchartButtonEl =\n",
              "        document.querySelector('#df-c676141c-57b6-445d-8e1a-4a61be74664e button');\n",
              "      quickchartButtonEl.style.display =\n",
              "        google.colab.kernel.accessAllowed ? 'block' : 'none';\n",
              "    })();\n",
              "  </script>\n",
              "</div>\n",
              "\n",
              "  <div id=\"id_5ec520f7-7f1b-403d-a977-41cdabe4cb04\">\n",
              "    <style>\n",
              "      .colab-df-generate {\n",
              "        background-color: #E8F0FE;\n",
              "        border: none;\n",
              "        border-radius: 50%;\n",
              "        cursor: pointer;\n",
              "        display: none;\n",
              "        fill: #1967D2;\n",
              "        height: 32px;\n",
              "        padding: 0 0 0 0;\n",
              "        width: 32px;\n",
              "      }\n",
              "\n",
              "      .colab-df-generate:hover {\n",
              "        background-color: #E2EBFA;\n",
              "        box-shadow: 0px 1px 2px rgba(60, 64, 67, 0.3), 0px 1px 3px 1px rgba(60, 64, 67, 0.15);\n",
              "        fill: #174EA6;\n",
              "      }\n",
              "\n",
              "      [theme=dark] .colab-df-generate {\n",
              "        background-color: #3B4455;\n",
              "        fill: #D2E3FC;\n",
              "      }\n",
              "\n",
              "      [theme=dark] .colab-df-generate:hover {\n",
              "        background-color: #434B5C;\n",
              "        box-shadow: 0px 1px 3px 1px rgba(0, 0, 0, 0.15);\n",
              "        filter: drop-shadow(0px 1px 2px rgba(0, 0, 0, 0.3));\n",
              "        fill: #FFFFFF;\n",
              "      }\n",
              "    </style>\n",
              "    <button class=\"colab-df-generate\" onclick=\"generateWithVariable('file')\"\n",
              "            title=\"Generate code using this dataframe.\"\n",
              "            style=\"display:none;\">\n",
              "\n",
              "  <svg xmlns=\"http://www.w3.org/2000/svg\" height=\"24px\"viewBox=\"0 0 24 24\"\n",
              "       width=\"24px\">\n",
              "    <path d=\"M7,19H8.4L18.45,9,17,7.55,7,17.6ZM5,21V16.75L18.45,3.32a2,2,0,0,1,2.83,0l1.4,1.43a1.91,1.91,0,0,1,.58,1.4,1.91,1.91,0,0,1-.58,1.4L9.25,21ZM18.45,9,17,7.55Zm-12,3A5.31,5.31,0,0,0,4.9,8.1,5.31,5.31,0,0,0,1,6.5,5.31,5.31,0,0,0,4.9,4.9,5.31,5.31,0,0,0,6.5,1,5.31,5.31,0,0,0,8.1,4.9,5.31,5.31,0,0,0,12,6.5,5.46,5.46,0,0,0,6.5,12Z\"/>\n",
              "  </svg>\n",
              "    </button>\n",
              "    <script>\n",
              "      (() => {\n",
              "      const buttonEl =\n",
              "        document.querySelector('#id_5ec520f7-7f1b-403d-a977-41cdabe4cb04 button.colab-df-generate');\n",
              "      buttonEl.style.display =\n",
              "        google.colab.kernel.accessAllowed ? 'block' : 'none';\n",
              "\n",
              "      buttonEl.onclick = () => {\n",
              "        google.colab.notebook.generateWithVariable('file');\n",
              "      }\n",
              "      })();\n",
              "    </script>\n",
              "  </div>\n",
              "\n",
              "    </div>\n",
              "  </div>\n"
            ],
            "application/vnd.google.colaboratory.intrinsic+json": {
              "type": "dataframe",
              "variable_name": "file",
              "summary": "{\n  \"name\": \"file\",\n  \"rows\": 6,\n  \"fields\": [\n    {\n      \"column\": \"Reach\",\n      \"properties\": {\n        \"dtype\": \"string\",\n        \"num_unique_values\": 6,\n        \"samples\": [\n          \"Noble Drain\",\n          \"Purdum Reach\",\n          \"Reach 3\"\n        ],\n        \"semantic_type\": \"\",\n        \"description\": \"\"\n      }\n    },\n    {\n      \"column\": \"Reach Area(mi\\u00b2)\",\n      \"properties\": {\n        \"dtype\": \"number\",\n        \"std\": 1.5468235768345717,\n        \"min\": 0.8313469918755323,\n        \"max\": 5.021585481119239,\n        \"num_unique_values\": 6,\n        \"samples\": [\n          3.728042757370735,\n          1.6934262296008404,\n          0.8313469918755323\n        ],\n        \"semantic_type\": \"\",\n        \"description\": \"\"\n      }\n    },\n    {\n      \"column\": \"Urban Area (mi\\u00b2)\",\n      \"properties\": {\n        \"dtype\": \"number\",\n        \"std\": 0.8946447524961095,\n        \"min\": 0.0865254937405871,\n        \"max\": 2.644066192257539,\n        \"num_unique_values\": 6,\n        \"samples\": [\n          1.4139447149817226,\n          0.8228609203924107,\n          0.0865254937405871\n        ],\n        \"semantic_type\": \"\",\n        \"description\": \"\"\n      }\n    },\n    {\n      \"column\": \"High Density Urban (mi\\u00b2)\",\n      \"properties\": {\n        \"dtype\": \"number\",\n        \"std\": 0.081698501480729,\n        \"min\": 0.0,\n        \"max\": 0.1966804395870373,\n        \"num_unique_values\": 6,\n        \"samples\": [\n          0.1497690273180443,\n          0.0072973307973989,\n          0.0\n        ],\n        \"semantic_type\": \"\",\n        \"description\": \"\"\n      }\n    },\n    {\n      \"column\": \"Medium Density Urban (mi\\u00b2)\",\n      \"properties\": {\n        \"dtype\": \"number\",\n        \"std\": 0.22146721372714748,\n        \"min\": 0.0013899677709331,\n        \"max\": 0.5949062059593779,\n        \"num_unique_values\": 6,\n        \"samples\": [\n          0.3207350631428188,\n          0.0896529212251866,\n          0.0013899677709331\n        ],\n        \"semantic_type\": \"\",\n        \"description\": \"\"\n      }\n    },\n    {\n      \"column\": \"Low Density Urban (mi\\u00b2)\",\n      \"properties\": {\n        \"dtype\": \"number\",\n        \"std\": 0.31369948763402866,\n        \"min\": 0.0211970085067301,\n        \"max\": 0.9038265430492652,\n        \"num_unique_values\": 6,\n        \"samples\": [\n          0.4322799767602022,\n          0.3162176678872861,\n          0.0211970085067301\n        ],\n        \"semantic_type\": \"\",\n        \"description\": \"\"\n      }\n    },\n    {\n      \"column\": \"Open Space Urban (mi\\u00b2)\",\n      \"properties\": {\n        \"dtype\": \"number\",\n        \"std\": 0.29221613805945057,\n        \"min\": 0.0639385174629238,\n        \"max\": 0.9486530036618586,\n        \"num_unique_values\": 6,\n        \"samples\": [\n          0.5111606477606572,\n          0.4096930004825389,\n          0.0639385174629238\n        ],\n        \"semantic_type\": \"\",\n        \"description\": \"\"\n      }\n    },\n    {\n      \"column\": \"Urban Percent\",\n      \"properties\": {\n        \"dtype\": \"number\",\n        \"std\": 22.289667347524375,\n        \"min\": 10.407867543417002,\n        \"max\": 67.81659842128947,\n        \"num_unique_values\": 6,\n        \"samples\": [\n          37.92726658475696,\n          48.591483113283786,\n          10.407867543417002\n        ],\n        \"semantic_type\": \"\",\n        \"description\": \"\"\n      }\n    },\n    {\n      \"column\": \"Flood\",\n      \"properties\": {\n        \"dtype\": \"number\",\n        \"std\": 1.032120438652021,\n        \"min\": 0.275847858545036,\n        \"max\": 3.069832620801328,\n        \"num_unique_values\": 6,\n        \"samples\": [\n          0.904861756222522,\n          0.275847858545036,\n          0.4698022481088222\n        ],\n        \"semantic_type\": \"\",\n        \"description\": \"\"\n      }\n    },\n    {\n      \"column\": \"Not Irrigated\",\n      \"properties\": {\n        \"dtype\": \"number\",\n        \"std\": 0.0112740980689001,\n        \"min\": 0.0,\n        \"max\": 0.0309165492683951,\n        \"num_unique_values\": 6,\n        \"samples\": [\n          0.0285794343413616,\n          0.0,\n          0.0124612410145719\n        ],\n        \"semantic_type\": \"\",\n        \"description\": \"\"\n      }\n    },\n    {\n      \"column\": \"Sprinkler\",\n      \"properties\": {\n        \"dtype\": \"number\",\n        \"std\": 0.03585211288759789,\n        \"min\": 0.0,\n        \"max\": 0.0953418824955599,\n        \"num_unique_values\": 6,\n        \"samples\": [\n          0.0953418824955599,\n          0.0,\n          0.0130030872586926\n        ],\n        \"semantic_type\": \"\",\n        \"description\": \"\"\n      }\n    },\n    {\n      \"column\": \"Total Irrigated Area (mi\\u00b2)\",\n      \"properties\": {\n        \"dtype\": \"number\",\n        \"std\": 1.0324473203679856,\n        \"min\": 0.275847858545036,\n        \"max\": 3.1083495832844465,\n        \"num_unique_values\": 6,\n        \"samples\": [\n          1.0287830730594436,\n          0.275847858545036,\n          0.4952665763820868\n        ],\n        \"semantic_type\": \"\",\n        \"description\": \"\"\n      }\n    },\n    {\n      \"column\": \"Reach Area (mi\\u00b2)\",\n      \"properties\": {\n        \"dtype\": \"number\",\n        \"std\": 1.5468235768345717,\n        \"min\": 0.8313469918755323,\n        \"max\": 5.021585481119239,\n        \"num_unique_values\": 6,\n        \"samples\": [\n          3.728042757370735,\n          1.6934262296008404,\n          0.8313469918755323\n        ],\n        \"semantic_type\": \"\",\n        \"description\": \"\"\n      }\n    },\n    {\n      \"column\": \"Agricultural Area (mi\\u00b2)\",\n      \"properties\": {\n        \"dtype\": \"number\",\n        \"std\": 1.1847473823508332,\n        \"min\": 0.500040905593192,\n        \"max\": 3.691406907655651,\n        \"num_unique_values\": 6,\n        \"samples\": [\n          1.5432117176785032,\n          0.500040905593192,\n          0.5893463348756456\n        ],\n        \"semantic_type\": \"\",\n        \"description\": \"\"\n      }\n    },\n    {\n      \"column\": \"Agricultural Percent\",\n      \"properties\": {\n        \"dtype\": \"number\",\n        \"std\": 21.220795606765066,\n        \"min\": 22.16584048807293,\n        \"max\": 73.51078502068812,\n        \"num_unique_values\": 6,\n        \"samples\": [\n          41.39468933470279,\n          29.52835481419568,\n          70.89053555676803\n        ],\n        \"semantic_type\": \"\",\n        \"description\": \"\"\n      }\n    }\n  ]\n}"
            }
          },
          "metadata": {},
          "execution_count": 64
        }
      ],
      "source": [
        "# -------------------------- #\n",
        "## Combine Data & Load File\n",
        "# -------------------------- #\n",
        "\n",
        "# Combine the two data frame\n",
        "land_use = pd.merge(urban, irrig_type, on='Reach', how='left')\n",
        "land_use = pd.merge(land_use, agriculture_df, on='Reach', how='left')\n",
        "land_use.to_csv('/content/drive/MyDrive/Data/Mason Water Budget/data_output/land_use/land_use.csv', index=False)\n",
        "\n",
        "file = pd.read_csv('/content/drive/MyDrive/Data/Mason Water Budget/data_output/land_use/land_use.csv')\n",
        "file"
      ]
    },
    {
      "cell_type": "markdown",
      "metadata": {
        "id": "4dzYjOUYQILa"
      },
      "source": [
        "## Stacked Bar Plot of Urban + Irrig Type for Each Reach"
      ]
    },
    {
      "cell_type": "markdown",
      "source": [
        "## Urbanization over time from 2013 to 2023 (CDL)\n"
      ],
      "metadata": {
        "id": "Mvd9OY2u8_kj"
      }
    },
    {
      "cell_type": "code",
      "source": [
        "## IMPORT PACKAGES ##\n",
        "\n",
        "# Import necessary libraries\n",
        "import glob\n",
        "import os\n",
        "import numpy as np\n",
        "import pandas as pd\n",
        "import geopandas as gpd\n",
        "! pip install rasterio\n",
        "import rasterio\n",
        "from rasterio.mask import mask\n",
        "from shapely.geometry import box\n",
        "import pandas as pd\n",
        "import matplotlib.pyplot as plt\n",
        "from scipy.stats import linregress\n",
        "\n",
        "from google.colab import drive\n",
        "drive.mount('/content/gdrive', force_remount=True)"
      ],
      "metadata": {
        "colab": {
          "base_uri": "https://localhost:8080/"
        },
        "id": "51RpIK459J4K",
        "outputId": "1f565f81-5b12-4f5c-ca49-c8ce17cde6b3"
      },
      "execution_count": 12,
      "outputs": [
        {
          "output_type": "stream",
          "name": "stdout",
          "text": [
            "Requirement already satisfied: rasterio in /usr/local/lib/python3.11/dist-packages (1.4.3)\n",
            "Requirement already satisfied: affine in /usr/local/lib/python3.11/dist-packages (from rasterio) (2.4.0)\n",
            "Requirement already satisfied: attrs in /usr/local/lib/python3.11/dist-packages (from rasterio) (25.3.0)\n",
            "Requirement already satisfied: certifi in /usr/local/lib/python3.11/dist-packages (from rasterio) (2025.1.31)\n",
            "Requirement already satisfied: click>=4.0 in /usr/local/lib/python3.11/dist-packages (from rasterio) (8.1.8)\n",
            "Requirement already satisfied: cligj>=0.5 in /usr/local/lib/python3.11/dist-packages (from rasterio) (0.7.2)\n",
            "Requirement already satisfied: numpy>=1.24 in /usr/local/lib/python3.11/dist-packages (from rasterio) (2.0.2)\n",
            "Requirement already satisfied: click-plugins in /usr/local/lib/python3.11/dist-packages (from rasterio) (1.1.1)\n",
            "Requirement already satisfied: pyparsing in /usr/local/lib/python3.11/dist-packages (from rasterio) (3.2.3)\n",
            "Mounted at /content/gdrive\n"
          ]
        }
      ]
    },
    {
      "cell_type": "code",
      "source": [
        "# Mask CDL data to Mason Watershed boundary\n",
        "shapefile_path = '/content/gdrive/MyDrive/Data/Mason Water Budget/data_input/Mason WDB/Mason Creek WDB.shp'\n",
        "raster_dir = '/content/gdrive/MyDrive/Data/Mason Water Budget/data_input/land_cover/mason_cdl'\n",
        "output_dir = '/content/gdrive/MyDrive/Data/Mason Water Budget/data_input/land_cover/mason_masked'\n",
        "\n",
        "shp_file = gpd.read_file(shapefile_path)\n",
        "print(f\"Original shapefile CRS: {shp_file.crs}\")\n",
        "\n",
        "for raster_path in glob.glob(os.path.join(raster_dir, '*.tif')):\n",
        "    print(f\"Processing raster: {raster_path}\")\n",
        "    with rasterio.open(raster_path) as src:\n",
        "        print(f\"Raster CRS: {src.crs}\")\n",
        "        print(f\"Raster bounds: {src.bounds}\")\n",
        "        shp_file = shp_file.to_crs(src.crs)\n",
        "        print(f\"Reprojected shapefile bounds: {shp_file.total_bounds}\")\n",
        "        shp_outline = [shp_file.geometry.unary_union.__geo_interface__]\n",
        "        out_img, out_transform = mask(src, shapes=shp_outline, crop=True, nodata=0)\n",
        "        out_meta = src.meta.copy()\n",
        "        out_meta.update({\n",
        "            \"driver\": \"GTiff\",\n",
        "            \"height\": out_img.shape[1],\n",
        "            \"width\": out_img.shape[2],\n",
        "            \"transform\": out_transform,\n",
        "            \"nodata\": 0\n",
        "        })\n",
        "        raster_name = os.path.basename(raster_path)\n",
        "        output_file = os.path.join(output_dir, raster_name)\n",
        "        with rasterio.open(output_file, 'w', **out_meta) as dest:\n",
        "            dest.write(out_img[0], 1)\n",
        "\n",
        "        print(f\"Saved cropped raster: {output_file}\")"
      ],
      "metadata": {
        "id": "GJzWWtYG9ctk",
        "colab": {
          "base_uri": "https://localhost:8080/"
        },
        "outputId": "36d1fef7-4989-46f6-a9bb-07089e6b6bec"
      },
      "execution_count": null,
      "outputs": [
        {
          "output_type": "stream",
          "name": "stdout",
          "text": [
            "Original shapefile CRS: EPSG:26711\n",
            "Processing raster: /content/gdrive/MyDrive/Data/Mason Water Budget/data_input/land_cover/mason_cdl/mason2023.tif\n",
            "Raster CRS: EPSG:5070\n",
            "Raster bounds: BoundingBox(left=-1646025.0, bottom=2466435.0, right=-1635075.0, top=2478765.0)\n",
            "Reprojected shapefile bounds: [-1647539.997804    2451916.22637794 -1624311.16800453  2480208.52965209]\n"
          ]
        },
        {
          "output_type": "stream",
          "name": "stderr",
          "text": [
            "<ipython-input-4-0743017d8d72>:25: DeprecationWarning: The 'unary_union' attribute is deprecated, use the 'union_all()' method instead.\n",
            "  shp_outline = [shp_file.geometry.unary_union.__geo_interface__]\n"
          ]
        },
        {
          "output_type": "stream",
          "name": "stdout",
          "text": [
            "Saved cropped raster: /content/gdrive/MyDrive/Data/Mason Water Budget/data_input/land_cover/mason_masked/mason2023.tif\n",
            "Processing raster: /content/gdrive/MyDrive/Data/Mason Water Budget/data_input/land_cover/mason_cdl/mason2022.tif\n",
            "Raster CRS: EPSG:5070\n",
            "Raster bounds: BoundingBox(left=-1646025.0, bottom=2466435.0, right=-1635075.0, top=2478765.0)\n",
            "Reprojected shapefile bounds: [-1647539.997804    2451916.22637794 -1624311.16800453  2480208.52965209]\n"
          ]
        },
        {
          "output_type": "stream",
          "name": "stderr",
          "text": [
            "<ipython-input-4-0743017d8d72>:25: DeprecationWarning: The 'unary_union' attribute is deprecated, use the 'union_all()' method instead.\n",
            "  shp_outline = [shp_file.geometry.unary_union.__geo_interface__]\n"
          ]
        },
        {
          "output_type": "stream",
          "name": "stdout",
          "text": [
            "Saved cropped raster: /content/gdrive/MyDrive/Data/Mason Water Budget/data_input/land_cover/mason_masked/mason2022.tif\n",
            "Processing raster: /content/gdrive/MyDrive/Data/Mason Water Budget/data_input/land_cover/mason_cdl/mason2021.tif\n",
            "Raster CRS: EPSG:5070\n",
            "Raster bounds: BoundingBox(left=-1646025.0, bottom=2466435.0, right=-1635075.0, top=2478765.0)\n",
            "Reprojected shapefile bounds: [-1647539.997804    2451916.22637794 -1624311.16800453  2480208.52965209]\n"
          ]
        },
        {
          "output_type": "stream",
          "name": "stderr",
          "text": [
            "<ipython-input-4-0743017d8d72>:25: DeprecationWarning: The 'unary_union' attribute is deprecated, use the 'union_all()' method instead.\n",
            "  shp_outline = [shp_file.geometry.unary_union.__geo_interface__]\n"
          ]
        },
        {
          "output_type": "stream",
          "name": "stdout",
          "text": [
            "Saved cropped raster: /content/gdrive/MyDrive/Data/Mason Water Budget/data_input/land_cover/mason_masked/mason2021.tif\n",
            "Processing raster: /content/gdrive/MyDrive/Data/Mason Water Budget/data_input/land_cover/mason_cdl/mason2020.tif\n",
            "Raster CRS: EPSG:5070\n",
            "Raster bounds: BoundingBox(left=-1646025.0, bottom=2466435.0, right=-1635075.0, top=2478765.0)\n",
            "Reprojected shapefile bounds: [-1647539.997804    2451916.22637794 -1624311.16800453  2480208.52965209]\n"
          ]
        },
        {
          "output_type": "stream",
          "name": "stderr",
          "text": [
            "<ipython-input-4-0743017d8d72>:25: DeprecationWarning: The 'unary_union' attribute is deprecated, use the 'union_all()' method instead.\n",
            "  shp_outline = [shp_file.geometry.unary_union.__geo_interface__]\n"
          ]
        },
        {
          "output_type": "stream",
          "name": "stdout",
          "text": [
            "Saved cropped raster: /content/gdrive/MyDrive/Data/Mason Water Budget/data_input/land_cover/mason_masked/mason2020.tif\n",
            "Processing raster: /content/gdrive/MyDrive/Data/Mason Water Budget/data_input/land_cover/mason_cdl/mason2019.tif\n",
            "Raster CRS: EPSG:5070\n",
            "Raster bounds: BoundingBox(left=-1646025.0, bottom=2466435.0, right=-1635075.0, top=2478765.0)\n",
            "Reprojected shapefile bounds: [-1647539.997804    2451916.22637794 -1624311.16800453  2480208.52965209]\n"
          ]
        },
        {
          "output_type": "stream",
          "name": "stderr",
          "text": [
            "<ipython-input-4-0743017d8d72>:25: DeprecationWarning: The 'unary_union' attribute is deprecated, use the 'union_all()' method instead.\n",
            "  shp_outline = [shp_file.geometry.unary_union.__geo_interface__]\n"
          ]
        },
        {
          "output_type": "stream",
          "name": "stdout",
          "text": [
            "Saved cropped raster: /content/gdrive/MyDrive/Data/Mason Water Budget/data_input/land_cover/mason_masked/mason2019.tif\n",
            "Processing raster: /content/gdrive/MyDrive/Data/Mason Water Budget/data_input/land_cover/mason_cdl/mason2018.tif\n",
            "Raster CRS: EPSG:5070\n",
            "Raster bounds: BoundingBox(left=-1646025.0, bottom=2466435.0, right=-1635075.0, top=2478765.0)\n",
            "Reprojected shapefile bounds: [-1647539.997804    2451916.22637794 -1624311.16800453  2480208.52965209]\n"
          ]
        },
        {
          "output_type": "stream",
          "name": "stderr",
          "text": [
            "<ipython-input-4-0743017d8d72>:25: DeprecationWarning: The 'unary_union' attribute is deprecated, use the 'union_all()' method instead.\n",
            "  shp_outline = [shp_file.geometry.unary_union.__geo_interface__]\n"
          ]
        },
        {
          "output_type": "stream",
          "name": "stdout",
          "text": [
            "Saved cropped raster: /content/gdrive/MyDrive/Data/Mason Water Budget/data_input/land_cover/mason_masked/mason2018.tif\n",
            "Processing raster: /content/gdrive/MyDrive/Data/Mason Water Budget/data_input/land_cover/mason_cdl/mason2017.tif\n",
            "Raster CRS: EPSG:5070\n",
            "Raster bounds: BoundingBox(left=-1646025.0, bottom=2466435.0, right=-1635075.0, top=2478765.0)\n",
            "Reprojected shapefile bounds: [-1647539.997804    2451916.22637794 -1624311.16800453  2480208.52965209]\n"
          ]
        },
        {
          "output_type": "stream",
          "name": "stderr",
          "text": [
            "<ipython-input-4-0743017d8d72>:25: DeprecationWarning: The 'unary_union' attribute is deprecated, use the 'union_all()' method instead.\n",
            "  shp_outline = [shp_file.geometry.unary_union.__geo_interface__]\n"
          ]
        },
        {
          "output_type": "stream",
          "name": "stdout",
          "text": [
            "Saved cropped raster: /content/gdrive/MyDrive/Data/Mason Water Budget/data_input/land_cover/mason_masked/mason2017.tif\n",
            "Processing raster: /content/gdrive/MyDrive/Data/Mason Water Budget/data_input/land_cover/mason_cdl/mason2016.tif\n",
            "Raster CRS: EPSG:5070\n",
            "Raster bounds: BoundingBox(left=-1646025.0, bottom=2466435.0, right=-1635075.0, top=2478765.0)\n",
            "Reprojected shapefile bounds: [-1647539.997804    2451916.22637794 -1624311.16800453  2480208.52965209]\n"
          ]
        },
        {
          "output_type": "stream",
          "name": "stderr",
          "text": [
            "<ipython-input-4-0743017d8d72>:25: DeprecationWarning: The 'unary_union' attribute is deprecated, use the 'union_all()' method instead.\n",
            "  shp_outline = [shp_file.geometry.unary_union.__geo_interface__]\n"
          ]
        },
        {
          "output_type": "stream",
          "name": "stdout",
          "text": [
            "Saved cropped raster: /content/gdrive/MyDrive/Data/Mason Water Budget/data_input/land_cover/mason_masked/mason2016.tif\n",
            "Processing raster: /content/gdrive/MyDrive/Data/Mason Water Budget/data_input/land_cover/mason_cdl/mason2015.tif\n",
            "Raster CRS: EPSG:5070\n",
            "Raster bounds: BoundingBox(left=-1646025.0, bottom=2466435.0, right=-1635075.0, top=2478765.0)\n",
            "Reprojected shapefile bounds: [-1647539.997804    2451916.22637794 -1624311.16800453  2480208.52965209]\n"
          ]
        },
        {
          "output_type": "stream",
          "name": "stderr",
          "text": [
            "<ipython-input-4-0743017d8d72>:25: DeprecationWarning: The 'unary_union' attribute is deprecated, use the 'union_all()' method instead.\n",
            "  shp_outline = [shp_file.geometry.unary_union.__geo_interface__]\n"
          ]
        },
        {
          "output_type": "stream",
          "name": "stdout",
          "text": [
            "Saved cropped raster: /content/gdrive/MyDrive/Data/Mason Water Budget/data_input/land_cover/mason_masked/mason2015.tif\n",
            "Processing raster: /content/gdrive/MyDrive/Data/Mason Water Budget/data_input/land_cover/mason_cdl/mason2014.tif\n",
            "Raster CRS: EPSG:5070\n",
            "Raster bounds: BoundingBox(left=-1646025.0, bottom=2466435.0, right=-1635075.0, top=2478765.0)\n",
            "Reprojected shapefile bounds: [-1647539.997804    2451916.22637794 -1624311.16800453  2480208.52965209]\n"
          ]
        },
        {
          "output_type": "stream",
          "name": "stderr",
          "text": [
            "<ipython-input-4-0743017d8d72>:25: DeprecationWarning: The 'unary_union' attribute is deprecated, use the 'union_all()' method instead.\n",
            "  shp_outline = [shp_file.geometry.unary_union.__geo_interface__]\n"
          ]
        },
        {
          "output_type": "stream",
          "name": "stdout",
          "text": [
            "Saved cropped raster: /content/gdrive/MyDrive/Data/Mason Water Budget/data_input/land_cover/mason_masked/mason2014.tif\n",
            "Processing raster: /content/gdrive/MyDrive/Data/Mason Water Budget/data_input/land_cover/mason_cdl/mason2013.tif\n",
            "Raster CRS: EPSG:5070\n",
            "Raster bounds: BoundingBox(left=-1647555.0, bottom=2451915.0, right=-1624305.0, top=2480235.0)\n",
            "Reprojected shapefile bounds: [-1647539.997804    2451916.22637794 -1624311.16800453  2480208.52965209]\n"
          ]
        },
        {
          "output_type": "stream",
          "name": "stderr",
          "text": [
            "<ipython-input-4-0743017d8d72>:25: DeprecationWarning: The 'unary_union' attribute is deprecated, use the 'union_all()' method instead.\n",
            "  shp_outline = [shp_file.geometry.unary_union.__geo_interface__]\n"
          ]
        },
        {
          "output_type": "stream",
          "name": "stdout",
          "text": [
            "Saved cropped raster: /content/gdrive/MyDrive/Data/Mason Water Budget/data_input/land_cover/mason_masked/mason2013.tif\n",
            "Processing raster: /content/gdrive/MyDrive/Data/Mason Water Budget/data_input/land_cover/mason_cdl/mason2012.tif\n",
            "Raster CRS: EPSG:5070\n",
            "Raster bounds: BoundingBox(left=-1647555.0, bottom=2451915.0, right=-1624305.0, top=2480235.0)\n",
            "Reprojected shapefile bounds: [-1647539.997804    2451916.22637794 -1624311.16800453  2480208.52965209]\n",
            "Saved cropped raster: /content/gdrive/MyDrive/Data/Mason Water Budget/data_input/land_cover/mason_masked/mason2012.tif\n",
            "Processing raster: /content/gdrive/MyDrive/Data/Mason Water Budget/data_input/land_cover/mason_cdl/mason2011.tif\n"
          ]
        },
        {
          "output_type": "stream",
          "name": "stderr",
          "text": [
            "<ipython-input-4-0743017d8d72>:25: DeprecationWarning: The 'unary_union' attribute is deprecated, use the 'union_all()' method instead.\n",
            "  shp_outline = [shp_file.geometry.unary_union.__geo_interface__]\n"
          ]
        },
        {
          "output_type": "stream",
          "name": "stdout",
          "text": [
            "Raster CRS: EPSG:5070\n",
            "Raster bounds: BoundingBox(left=-1647555.0, bottom=2451915.0, right=-1624305.0, top=2480235.0)\n",
            "Reprojected shapefile bounds: [-1647539.997804    2451916.22637794 -1624311.16800453  2480208.52965209]\n",
            "Saved cropped raster: /content/gdrive/MyDrive/Data/Mason Water Budget/data_input/land_cover/mason_masked/mason2011.tif\n",
            "Processing raster: /content/gdrive/MyDrive/Data/Mason Water Budget/data_input/land_cover/mason_cdl/mason2010.tif\n"
          ]
        },
        {
          "output_type": "stream",
          "name": "stderr",
          "text": [
            "<ipython-input-4-0743017d8d72>:25: DeprecationWarning: The 'unary_union' attribute is deprecated, use the 'union_all()' method instead.\n",
            "  shp_outline = [shp_file.geometry.unary_union.__geo_interface__]\n"
          ]
        },
        {
          "output_type": "stream",
          "name": "stdout",
          "text": [
            "Raster CRS: EPSG:5070\n",
            "Raster bounds: BoundingBox(left=-1647555.0, bottom=2451915.0, right=-1624305.0, top=2480235.0)\n",
            "Reprojected shapefile bounds: [-1647539.997804    2451916.22637794 -1624311.16800453  2480208.52965209]\n",
            "Saved cropped raster: /content/gdrive/MyDrive/Data/Mason Water Budget/data_input/land_cover/mason_masked/mason2010.tif\n",
            "Processing raster: /content/gdrive/MyDrive/Data/Mason Water Budget/data_input/land_cover/mason_cdl/mason2009.tif\n"
          ]
        },
        {
          "output_type": "stream",
          "name": "stderr",
          "text": [
            "<ipython-input-4-0743017d8d72>:25: DeprecationWarning: The 'unary_union' attribute is deprecated, use the 'union_all()' method instead.\n",
            "  shp_outline = [shp_file.geometry.unary_union.__geo_interface__]\n"
          ]
        },
        {
          "output_type": "stream",
          "name": "stdout",
          "text": [
            "Raster CRS: EPSG:5070\n",
            "Raster bounds: BoundingBox(left=-1647538.0, bottom=2451930.0, right=-1624298.0, top=2480266.0)\n",
            "Reprojected shapefile bounds: [-1647539.997804    2451916.22637794 -1624311.16800453  2480208.52965209]\n",
            "Saved cropped raster: /content/gdrive/MyDrive/Data/Mason Water Budget/data_input/land_cover/mason_masked/mason2009.tif\n",
            "Processing raster: /content/gdrive/MyDrive/Data/Mason Water Budget/data_input/land_cover/mason_cdl/mason2008.tif\n"
          ]
        },
        {
          "output_type": "stream",
          "name": "stderr",
          "text": [
            "<ipython-input-4-0743017d8d72>:25: DeprecationWarning: The 'unary_union' attribute is deprecated, use the 'union_all()' method instead.\n",
            "  shp_outline = [shp_file.geometry.unary_union.__geo_interface__]\n"
          ]
        },
        {
          "output_type": "stream",
          "name": "stdout",
          "text": [
            "Raster CRS: EPSG:5070\n",
            "Raster bounds: BoundingBox(left=-1647538.0, bottom=2451930.0, right=-1624298.0, top=2480266.0)\n",
            "Reprojected shapefile bounds: [-1647539.997804    2451916.22637794 -1624311.16800453  2480208.52965209]\n",
            "Saved cropped raster: /content/gdrive/MyDrive/Data/Mason Water Budget/data_input/land_cover/mason_masked/mason2008.tif\n",
            "Processing raster: /content/gdrive/MyDrive/Data/Mason Water Budget/data_input/land_cover/mason_cdl/mason2007.tif\n"
          ]
        },
        {
          "output_type": "stream",
          "name": "stderr",
          "text": [
            "<ipython-input-4-0743017d8d72>:25: DeprecationWarning: The 'unary_union' attribute is deprecated, use the 'union_all()' method instead.\n",
            "  shp_outline = [shp_file.geometry.unary_union.__geo_interface__]\n"
          ]
        },
        {
          "output_type": "stream",
          "name": "stdout",
          "text": [
            "Raster CRS: EPSG:5070\n",
            "Raster bounds: BoundingBox(left=-1647538.0, bottom=2451930.0, right=-1624298.0, top=2480266.0)\n",
            "Reprojected shapefile bounds: [-1647539.997804    2451916.22637794 -1624311.16800453  2480208.52965209]\n",
            "Saved cropped raster: /content/gdrive/MyDrive/Data/Mason Water Budget/data_input/land_cover/mason_masked/mason2007.tif\n",
            "Processing raster: /content/gdrive/MyDrive/Data/Mason Water Budget/data_input/land_cover/mason_cdl/mason2006.tif\n"
          ]
        },
        {
          "output_type": "stream",
          "name": "stderr",
          "text": [
            "<ipython-input-4-0743017d8d72>:25: DeprecationWarning: The 'unary_union' attribute is deprecated, use the 'union_all()' method instead.\n",
            "  shp_outline = [shp_file.geometry.unary_union.__geo_interface__]\n"
          ]
        },
        {
          "output_type": "stream",
          "name": "stdout",
          "text": [
            "Raster CRS: EPSG:5070\n",
            "Raster bounds: BoundingBox(left=-1647538.0, bottom=2451930.0, right=-1624298.0, top=2480266.0)\n",
            "Reprojected shapefile bounds: [-1647539.997804    2451916.22637794 -1624311.16800453  2480208.52965209]\n",
            "Saved cropped raster: /content/gdrive/MyDrive/Data/Mason Water Budget/data_input/land_cover/mason_masked/mason2006.tif\n",
            "Processing raster: /content/gdrive/MyDrive/Data/Mason Water Budget/data_input/land_cover/mason_cdl/mason2005.tif\n"
          ]
        },
        {
          "output_type": "stream",
          "name": "stderr",
          "text": [
            "<ipython-input-4-0743017d8d72>:25: DeprecationWarning: The 'unary_union' attribute is deprecated, use the 'union_all()' method instead.\n",
            "  shp_outline = [shp_file.geometry.unary_union.__geo_interface__]\n"
          ]
        },
        {
          "output_type": "stream",
          "name": "stdout",
          "text": [
            "Raster CRS: EPSG:5070\n",
            "Raster bounds: BoundingBox(left=-1647555.0, bottom=2451915.0, right=-1624305.0, top=2480235.0)\n",
            "Reprojected shapefile bounds: [-1647539.997804    2451916.22637794 -1624311.16800453  2480208.52965209]\n",
            "Saved cropped raster: /content/gdrive/MyDrive/Data/Mason Water Budget/data_input/land_cover/mason_masked/mason2005.tif\n",
            "Processing raster: /content/gdrive/MyDrive/Data/Mason Water Budget/data_input/land_cover/mason_cdl/mason2004.tif\n"
          ]
        },
        {
          "output_type": "stream",
          "name": "stderr",
          "text": [
            "<ipython-input-4-0743017d8d72>:25: DeprecationWarning: The 'unary_union' attribute is deprecated, use the 'union_all()' method instead.\n",
            "  shp_outline = [shp_file.geometry.unary_union.__geo_interface__]\n"
          ]
        },
        {
          "output_type": "stream",
          "name": "stdout",
          "text": [
            "Raster CRS: EPSG:5070\n",
            "Raster bounds: BoundingBox(left=-1647555.0, bottom=2451915.0, right=-1624305.0, top=2480235.0)\n",
            "Reprojected shapefile bounds: [-1647539.997804    2451916.22637794 -1624311.16800453  2480208.52965209]\n",
            "Saved cropped raster: /content/gdrive/MyDrive/Data/Mason Water Budget/data_input/land_cover/mason_masked/mason2004.tif\n",
            "Processing raster: /content/gdrive/MyDrive/Data/Mason Water Budget/data_input/land_cover/mason_cdl/mason2003.tif\n"
          ]
        },
        {
          "output_type": "stream",
          "name": "stderr",
          "text": [
            "<ipython-input-4-0743017d8d72>:25: DeprecationWarning: The 'unary_union' attribute is deprecated, use the 'union_all()' method instead.\n",
            "  shp_outline = [shp_file.geometry.unary_union.__geo_interface__]\n"
          ]
        },
        {
          "output_type": "stream",
          "name": "stdout",
          "text": [
            "Raster CRS: EPSG:5070\n",
            "Raster bounds: BoundingBox(left=-1647555.0, bottom=2451915.0, right=-1624305.0, top=2480235.0)\n",
            "Reprojected shapefile bounds: [-1647539.997804    2451916.22637794 -1624311.16800453  2480208.52965209]\n",
            "Saved cropped raster: /content/gdrive/MyDrive/Data/Mason Water Budget/data_input/land_cover/mason_masked/mason2003.tif\n",
            "Processing raster: /content/gdrive/MyDrive/Data/Mason Water Budget/data_input/land_cover/mason_cdl/mason2002.tif\n"
          ]
        },
        {
          "output_type": "stream",
          "name": "stderr",
          "text": [
            "<ipython-input-4-0743017d8d72>:25: DeprecationWarning: The 'unary_union' attribute is deprecated, use the 'union_all()' method instead.\n",
            "  shp_outline = [shp_file.geometry.unary_union.__geo_interface__]\n"
          ]
        },
        {
          "output_type": "stream",
          "name": "stdout",
          "text": [
            "Raster CRS: EPSG:5070\n",
            "Raster bounds: BoundingBox(left=-1647555.0, bottom=2451915.0, right=-1624305.0, top=2480235.0)\n",
            "Reprojected shapefile bounds: [-1647539.997804    2451916.22637794 -1624311.16800453  2480208.52965209]\n",
            "Saved cropped raster: /content/gdrive/MyDrive/Data/Mason Water Budget/data_input/land_cover/mason_masked/mason2002.tif\n",
            "Processing raster: /content/gdrive/MyDrive/Data/Mason Water Budget/data_input/land_cover/mason_cdl/mason2001 (1).tif\n"
          ]
        },
        {
          "output_type": "stream",
          "name": "stderr",
          "text": [
            "<ipython-input-4-0743017d8d72>:25: DeprecationWarning: The 'unary_union' attribute is deprecated, use the 'union_all()' method instead.\n",
            "  shp_outline = [shp_file.geometry.unary_union.__geo_interface__]\n"
          ]
        },
        {
          "output_type": "stream",
          "name": "stdout",
          "text": [
            "Raster CRS: EPSG:5070\n",
            "Raster bounds: BoundingBox(left=-1647555.0, bottom=2451915.0, right=-1624305.0, top=2480235.0)\n",
            "Reprojected shapefile bounds: [-1647539.997804    2451916.22637794 -1624311.16800453  2480208.52965209]\n",
            "Saved cropped raster: /content/gdrive/MyDrive/Data/Mason Water Budget/data_input/land_cover/mason_masked/mason2001 (1).tif\n",
            "Processing raster: /content/gdrive/MyDrive/Data/Mason Water Budget/data_input/land_cover/mason_cdl/mason2001.tif\n"
          ]
        },
        {
          "output_type": "stream",
          "name": "stderr",
          "text": [
            "<ipython-input-4-0743017d8d72>:25: DeprecationWarning: The 'unary_union' attribute is deprecated, use the 'union_all()' method instead.\n",
            "  shp_outline = [shp_file.geometry.unary_union.__geo_interface__]\n"
          ]
        },
        {
          "output_type": "stream",
          "name": "stdout",
          "text": [
            "Raster CRS: EPSG:5070\n",
            "Raster bounds: BoundingBox(left=-1647555.0, bottom=2451915.0, right=-1624305.0, top=2480235.0)\n",
            "Reprojected shapefile bounds: [-1647539.997804    2451916.22637794 -1624311.16800453  2480208.52965209]\n",
            "Saved cropped raster: /content/gdrive/MyDrive/Data/Mason Water Budget/data_input/land_cover/mason_masked/mason2001.tif\n",
            "Processing raster: /content/gdrive/MyDrive/Data/Mason Water Budget/data_input/land_cover/mason_cdl/mason2000 (1).tif\n"
          ]
        },
        {
          "output_type": "stream",
          "name": "stderr",
          "text": [
            "<ipython-input-4-0743017d8d72>:25: DeprecationWarning: The 'unary_union' attribute is deprecated, use the 'union_all()' method instead.\n",
            "  shp_outline = [shp_file.geometry.unary_union.__geo_interface__]\n"
          ]
        },
        {
          "output_type": "stream",
          "name": "stdout",
          "text": [
            "Raster CRS: EPSG:5070\n",
            "Raster bounds: BoundingBox(left=-1647555.0, bottom=2451915.0, right=-1624305.0, top=2480235.0)\n",
            "Reprojected shapefile bounds: [-1647539.997804    2451916.22637794 -1624311.16800453  2480208.52965209]\n",
            "Saved cropped raster: /content/gdrive/MyDrive/Data/Mason Water Budget/data_input/land_cover/mason_masked/mason2000 (1).tif\n",
            "Processing raster: /content/gdrive/MyDrive/Data/Mason Water Budget/data_input/land_cover/mason_cdl/mason2000.tif\n"
          ]
        },
        {
          "output_type": "stream",
          "name": "stderr",
          "text": [
            "<ipython-input-4-0743017d8d72>:25: DeprecationWarning: The 'unary_union' attribute is deprecated, use the 'union_all()' method instead.\n",
            "  shp_outline = [shp_file.geometry.unary_union.__geo_interface__]\n"
          ]
        },
        {
          "output_type": "stream",
          "name": "stdout",
          "text": [
            "Raster CRS: EPSG:5070\n",
            "Raster bounds: BoundingBox(left=-1647555.0, bottom=2451915.0, right=-1624305.0, top=2480235.0)\n",
            "Reprojected shapefile bounds: [-1647539.997804    2451916.22637794 -1624311.16800453  2480208.52965209]\n",
            "Saved cropped raster: /content/gdrive/MyDrive/Data/Mason Water Budget/data_input/land_cover/mason_masked/mason2000.tif\n"
          ]
        },
        {
          "output_type": "stream",
          "name": "stderr",
          "text": [
            "<ipython-input-4-0743017d8d72>:25: DeprecationWarning: The 'unary_union' attribute is deprecated, use the 'union_all()' method instead.\n",
            "  shp_outline = [shp_file.geometry.unary_union.__geo_interface__]\n"
          ]
        }
      ]
    },
    {
      "cell_type": "code",
      "source": [
        "# ----------------------- #\n",
        "# Classify urban CDL data\n",
        "# ----------------------- #\n",
        "\n",
        "shapefile_path = '/content/gdrive/MyDrive/Data/GIS Shapefiles/Mason Creek/Mason Creek.shp'\n",
        "masked_dir_base = '/content/gdrive/MyDrive/Data/Mason Water Budget/data_input/land_cover/mason_masked'\n",
        "raster_dir = '/content/gdrive/MyDrive/Data/Mason Water Budget/data_input/land_cover/mason_cdl'\n",
        "output_file = '/content/gdrive/MyDrive/Data/Mason Water Budget/data_output/land_use/mason_cdl.csv'\n",
        "\n",
        "# Urban crop types\n",
        "urban_crop_types = {82, 121, 122, 123, 124}\n",
        "\n",
        "SQM_TO_SQMI = 2_589_988.11  # Square meters to square miles\n",
        "\n",
        "shp_file = gpd.read_file(shapefile_path)\n",
        "print(f\"Loaded Mason shapefile with {len(shp_file)} geometries.\")\n",
        "\n",
        "shapefile_area_m2 = shp_file.geometry.area.sum()\n",
        "shapefile_area_mi2 = shapefile_area_m2 / SQM_TO_SQMI\n",
        "print(f\"Shapefile area (mi²): {shapefile_area_mi2}\")\n",
        "\n",
        "# Reproject shapefile to match raster CRS\n",
        "with rasterio.open(os.path.join(raster_dir, 'mason2015.tif')) as example_raster:\n",
        "    if shp_file.crs != example_raster.crs:\n",
        "        print(\"Reprojecting shapefile to match raster CRS...\")\n",
        "        shp_file = shp_file.to_crs(example_raster.crs)\n",
        "\n",
        "\n",
        "geometry = [shp_file.geometry.unary_union.__geo_interface__]\n",
        "\n",
        "\n",
        "data = []\n",
        "\n",
        "# Process each year's raster data\n",
        "for year in range(2000, 2023):\n",
        "    print(f\"Processing year: {year}\")\n",
        "    year_raster_path = os.path.join(raster_dir, f'mason{year}.tif')\n",
        "    year_masked_path = os.path.join(masked_dir_base, f\"mason{year}.tif\")\n",
        "    with rasterio.open(year_raster_path) as src:\n",
        "        print(f\"Cropping raster for year {year}...\")\n",
        "        out_img, out_transform = mask(src, shapes=geometry, crop=True, nodata=0)\n",
        "        out_meta = src.meta.copy()\n",
        "        out_meta.update({\n",
        "            \"driver\": \"GTiff\",\n",
        "            \"height\": out_img.shape[1],\n",
        "            \"width\": out_img.shape[2],\n",
        "            \"transform\": out_transform,\n",
        "            \"nodata\": 0\n",
        "        })\n",
        "        with rasterio.open(year_masked_path, 'w', **out_meta) as dest:\n",
        "            dest.write(out_img[0], 1)\n",
        "        print(f\"Cropped raster saved for year {year}.\")\n",
        "    with rasterio.open(year_masked_path) as src:\n",
        "        cdl_data = src.read(1)\n",
        "        unique_crop_types, pixel_counts = np.unique(cdl_data, return_counts=True)\n",
        "        urban_pixels = 0\n",
        "        for crop_type, count in zip(unique_crop_types, pixel_counts):\n",
        "            if crop_type in urban_crop_types:\n",
        "                urban_pixels += count\n",
        "        pixel_width = src.transform[0]\n",
        "        pixel_height = -src.transform[4]\n",
        "        pixel_area = pixel_width * pixel_height\n",
        "        urban_area_m2 = urban_pixels * pixel_area\n",
        "        urban_area_mi2 = urban_area_m2 / SQM_TO_SQMI\n",
        "        data.append({\n",
        "            'Year': year,\n",
        "            'Total Area (mi²)': shapefile_area_mi2,  # Use shapefile area directly\n",
        "            'Urban Area (mi²)': urban_area_mi2,\n",
        "            'Urban Percent': (100 * urban_area_mi2 / shapefile_area_mi2) if shapefile_area_mi2 > 0 else 0\n",
        "        })\n",
        "\n",
        "urban_df = pd.DataFrame(data)\n",
        "urban_df.to_csv(output_file, index=False)\n",
        "print(f\"Urban area analysis saved to {output_file}\")"
      ],
      "metadata": {
        "colab": {
          "base_uri": "https://localhost:8080/"
        },
        "id": "hefAbpsjBUoO",
        "outputId": "5f3fa07f-47b2-4ea0-acf0-491a18a25898"
      },
      "execution_count": null,
      "outputs": [
        {
          "output_type": "stream",
          "name": "stdout",
          "text": [
            "Loaded Mason shapefile with 1 geometries.\n",
            "Shapefile area (mi²): 67.73631725277939\n",
            "Reprojecting shapefile to match raster CRS...\n",
            "Processing year: 2000\n",
            "Cropping raster for year 2000...\n"
          ]
        },
        {
          "output_type": "stream",
          "name": "stderr",
          "text": [
            "<ipython-input-22-ebebc61b8f47>:33: DeprecationWarning: The 'unary_union' attribute is deprecated, use the 'union_all()' method instead.\n",
            "  geometry = [shp_file.geometry.unary_union.__geo_interface__]\n"
          ]
        },
        {
          "output_type": "stream",
          "name": "stdout",
          "text": [
            "Cropped raster saved for year 2000.\n",
            "Processing year: 2001\n",
            "Cropping raster for year 2001...\n",
            "Cropped raster saved for year 2001.\n",
            "Processing year: 2002\n",
            "Cropping raster for year 2002...\n",
            "Cropped raster saved for year 2002.\n",
            "Processing year: 2003\n",
            "Cropping raster for year 2003...\n",
            "Cropped raster saved for year 2003.\n",
            "Processing year: 2004\n",
            "Cropping raster for year 2004...\n",
            "Cropped raster saved for year 2004.\n",
            "Processing year: 2005\n",
            "Cropping raster for year 2005...\n",
            "Cropped raster saved for year 2005.\n",
            "Processing year: 2006\n",
            "Cropping raster for year 2006...\n",
            "Cropped raster saved for year 2006.\n",
            "Processing year: 2007\n",
            "Cropping raster for year 2007...\n",
            "Cropped raster saved for year 2007.\n",
            "Processing year: 2008\n",
            "Cropping raster for year 2008...\n",
            "Cropped raster saved for year 2008.\n",
            "Processing year: 2009\n",
            "Cropping raster for year 2009...\n",
            "Cropped raster saved for year 2009.\n",
            "Processing year: 2010\n",
            "Cropping raster for year 2010...\n",
            "Cropped raster saved for year 2010.\n",
            "Processing year: 2011\n",
            "Cropping raster for year 2011...\n",
            "Cropped raster saved for year 2011.\n",
            "Processing year: 2012\n",
            "Cropping raster for year 2012...\n",
            "Cropped raster saved for year 2012.\n",
            "Processing year: 2013\n",
            "Cropping raster for year 2013...\n",
            "Cropped raster saved for year 2013.\n",
            "Processing year: 2014\n",
            "Cropping raster for year 2014...\n",
            "Cropped raster saved for year 2014.\n",
            "Processing year: 2015\n",
            "Cropping raster for year 2015...\n",
            "Cropped raster saved for year 2015.\n",
            "Processing year: 2016\n",
            "Cropping raster for year 2016...\n",
            "Cropped raster saved for year 2016.\n",
            "Processing year: 2017\n",
            "Cropping raster for year 2017...\n",
            "Cropped raster saved for year 2017.\n",
            "Processing year: 2018\n",
            "Cropping raster for year 2018...\n",
            "Cropped raster saved for year 2018.\n",
            "Processing year: 2019\n",
            "Cropping raster for year 2019...\n",
            "Cropped raster saved for year 2019.\n",
            "Processing year: 2020\n",
            "Cropping raster for year 2020...\n",
            "Cropped raster saved for year 2020.\n",
            "Processing year: 2021\n",
            "Cropping raster for year 2021...\n",
            "Cropped raster saved for year 2021.\n",
            "Processing year: 2022\n",
            "Cropping raster for year 2022...\n",
            "Cropped raster saved for year 2022.\n",
            "Urban area analysis saved to /content/gdrive/MyDrive/Data/Mason Water Budget/data_output/land_use/mason_cdl.csv\n"
          ]
        }
      ]
    },
    {
      "cell_type": "markdown",
      "source": [
        "## Urban Change from LCMAP 1987 to 2021"
      ],
      "metadata": {
        "id": "iqRTUo9Ns0nH"
      }
    },
    {
      "cell_type": "code",
      "source": [
        "file = pd.read_csv('/content/drive/MyDrive/Data/Drains_Lower_Boise_River/data_output/landcover_calculations_out/final_metrics/Mason Creek.csv')\n",
        "\n",
        "years = file['dates']\n",
        "urban = file['class1_urban']\n",
        "crops = file['class2_crops']\n",
        "\n",
        "def theme_cust(ax):\n",
        "    ax.spines['top'].set_visible(False)\n",
        "    ax.spines['right'].set_visible(False)\n",
        "    ax.spines['left'].set_linewidth(2)\n",
        "    ax.spines['bottom'].set_linewidth(2)\n",
        "    ax.tick_params(axis='both', colors='black', width=2, length=6)\n",
        "    ax.xaxis.label.set_color('black')\n",
        "    ax.yaxis.label.set_color('black')\n",
        "    return ax\n",
        "\n",
        "plt.figure(figsize=(12, 6))\n",
        "\n",
        "plt.plot(\n",
        "    years,\n",
        "    urban,\n",
        "    label='Urban',\n",
        "    color='#7A211B',\n",
        "    linewidth=3,\n",
        "    marker='o',\n",
        "    markersize=0\n",
        ")\n",
        "\n",
        "\n",
        "plt.plot(\n",
        "    years,\n",
        "    crops,\n",
        "    label='Agricultural',\n",
        "    color='#CEA62F',\n",
        "    linewidth=3,\n",
        "    marker='o',\n",
        "    markersize=0\n",
        ")\n",
        "\n",
        "ax = plt.gca()\n",
        "ax.set_title(\"Urbanization in Mason Drainage\", fontsize=20)\n",
        "ax.set_xlabel(\"\", fontsize=20)\n",
        "ax.set_ylabel(\"Percentage of Landscape\", fontsize=20)\n",
        "ax.tick_params(axis='both', labelsize=18)\n",
        "theme_cust(ax)\n",
        "\n",
        "plt.legend(frameon=False, fontsize=18)\n",
        "plt.tight_layout()\n",
        "plt.show()"
      ],
      "metadata": {
        "colab": {
          "base_uri": "https://localhost:8080/",
          "height": 562
        },
        "id": "uQV9RfbltWdZ",
        "outputId": "6f2441a5-684e-42f2-e258-9e69633642a5"
      },
      "execution_count": null,
      "outputs": [
        {
          "output_type": "display_data",
          "data": {
            "text/plain": [
              "<Figure size 1200x600 with 1 Axes>"
            ],
            "image/png": "[encoded data removed]"
          },
          "metadata": {}
        }
      ]
    }
  ],
  "metadata": {
    "colab": {
      "provenance": [],
      "authorship_tag": "ABX9TyOos0tUjs0h2ds/D1pahfQI",
      "include_colab_link": true
    },
    "kernelspec": {
      "display_name": "Python 3",
      "name": "python3"
    },
    "language_info": {
      "name": "python"
    }
  },
  "nbformat": 4,
  "nbformat_minor": 0
}