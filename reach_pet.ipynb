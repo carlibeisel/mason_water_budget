{
  "nbformat": 4,
  "nbformat_minor": 0,
  "metadata": {
    "colab": {
      "provenance": [],
      "authorship_tag": "ABX9TyMTviHZvrmTUdJYtyP3X1hW",
      "include_colab_link": true
    },
    "kernelspec": {
      "name": "python3",
      "display_name": "Python 3"
    },
    "language_info": {
      "name": "python"
    }
  },
  "cells": [
    {
      "cell_type": "markdown",
      "metadata": {
        "id": "view-in-github",
        "colab_type": "text"
      },
      "source": [
        "<a href=\"https://colab.research.google.com/github/carlibeisel/mason_water_budget/blob/main/reach_pet.ipynb\" target=\"_parent\"><img src=\"https://colab.research.google.com/assets/colab-badge.svg\" alt=\"Open In Colab\"/></a>"
      ]
    },
    {
      "cell_type": "markdown",
      "source": [
        "\n",
        "By Carli Beisel\n",
        "\n",
        "Created August 2024\n",
        "\n",
        "Purpose: Calculates open-water PET for irrigation systems in Mason.\n",
        "\n",
        "Below code from:\n",
        "https://pyet.readthedocs.io/en/dev/examples/06_worked_examples_McMahon_etal_2013.html]\n",
        "\n",
        "\n",
        "Really simple walk through (not openwater?): https://python.plainenglish.io/how-to-estimate-penman-evaporation-on-python-step-by-step-cf5157fc740e"
      ],
      "metadata": {
        "id": "ksAcmVvCukJT"
      }
    },
    {
      "cell_type": "markdown",
      "source": [],
      "metadata": {
        "id": "FW1UszYE06fw"
      }
    },
    {
      "cell_type": "code",
      "source": [
        "#-------------------------------------------#\n",
        "#     Import Packages & Connect to Drive    #\n",
        "#-------------------------------------------#\n",
        "import numpy as np\n",
        "import pandas as pd\n",
        "\n",
        "! pip install pyet\n",
        "import pyet\n",
        "pyet.show_versions()\n",
        "\n",
        "#Connect to Google Drive\n",
        "from google.colab import drive\n",
        "drive.mount('/content/drive')"
      ],
      "metadata": {
        "id": "3iYnyBAkuctY"
      },
      "execution_count": null,
      "outputs": []
    },
    {
      "cell_type": "code",
      "source": [
        "#---------------------#\n",
        "#     PET Variables   #\n",
        "#---------------------#\n",
        "#change this for my values\n",
        "\n",
        "index = pd.DatetimeIndex([\"1980-7-20\"])\n",
        "lat = -23.7951 * np.pi / 180  # Latitude [rad]\n",
        "ele = 546 # Elevation [m]\n",
        "tmax = pd.Series([21], index=index)  # Maximum daily air temperature [°C]\n",
        "tmin = pd.Series([2], index=index) # Minimum daily air temperature [°C]\n",
        "rhmax = pd.Series([71], index=index)  # Maximum relative humidity [%]\n",
        "rhmin = pd.Series([25], index=index)  # Minimum relative humidity [%]\n",
        "n = pd.Series([10.7], index=index)  # Daily sunshine hours [hours]\n",
        "wind = pd.Series([0.5903], index=index)  # Wind run at 2 m height [m/s]\n",
        "\n",
        "tmean = (tmax+tmin)/2\n",
        "print(f\"Tmean = {float(tmean.iloc[0])}\")"
      ],
      "metadata": {
        "id": "j_vUj5uTwjWw"
      },
      "execution_count": null,
      "outputs": []
    },
    {
      "cell_type": "code",
      "execution_count": null,
      "metadata": {
        "id": "zr4Upur_NKvF"
      },
      "outputs": [],
      "source": [
        "lambda0 = 2.45\n",
        "lambda1 = pyet.calc_lambda(tmean)\n",
        "lambda_cor = lambda1 / lambda0"
      ]
    },
    {
      "cell_type": "code",
      "source": [
        "#-----------------------#\n",
        "#     PET Calculation   #\n",
        "#-----------------------#\n",
        "\n",
        "# We have to divide the coefficient from McMahon et al. 2013 as PyEts Penman equation uses an unit conversion factor Ku\n",
        "aw = 1.313\n",
        "bw = 1.381\n",
        "penman = pyet.penman(tmean, wind=wind, tmax=tmax, tmin=tmin, lat=lat, elevation=ele,\n",
        "                     rhmin=rhmin, rhmax=rhmax, aw=aw, bw=bw, albedo=0.08, n=n)"
      ],
      "metadata": {
        "id": "cC3zqm87wCt5"
      },
      "execution_count": null,
      "outputs": []
    },
    {
      "cell_type": "code",
      "source": [
        "print(f\"Penman-openwater : {round(float(penman.iloc[0] / lambda_cor.iloc[0]),4)} vs 2.9797 mm day-1\")"
      ],
      "metadata": {
        "id": "iZC98kIswDHj"
      },
      "execution_count": null,
      "outputs": []
    },
    {
      "cell_type": "code",
      "source": [
        "#----------------------------#\n",
        "#     PET X S.A. of canals   #\n",
        "#----------------------------#\n",
        "\n",
        "# calculate S.A. by getting length of all canals/drains in reach and multiplying it by width\n",
        "\n"
      ],
      "metadata": {
        "id": "LVbPt8tv0H83"
      },
      "execution_count": null,
      "outputs": []
    },
    {
      "cell_type": "code",
      "source": [
        "output_file = '/content/drive/MyDrive/Data/Mason/data_output/pet_out/pet_reach.csv'"
      ],
      "metadata": {
        "id": "7j5jNTDh0QJw"
      },
      "execution_count": null,
      "outputs": []
    }
  ]
}