{
  "nbformat": 4,
  "nbformat_minor": 0,
  "metadata": {
    "colab": {
      "provenance": [],
      "authorship_tag": "ABX9TyMi3Qghi7vr9ApuCojiO5Za",
      "include_colab_link": true
    },
    "kernelspec": {
      "name": "python3",
      "display_name": "Python 3"
    },
    "language_info": {
      "name": "python"
    }
  },
  "cells": [
    {
      "cell_type": "markdown",
      "metadata": {
        "id": "view-in-github",
        "colab_type": "text"
      },
      "source": [
        "<a href=\"https://colab.research.google.com/github/carlibeisel/mason_water_budget/blob/main/reach_compile_data.ipynb\" target=\"_parent\"><img src=\"https://colab.research.google.com/assets/colab-badge.svg\" alt=\"Open In Colab\"/></a>"
      ]
    },
    {
      "cell_type": "markdown",
      "source": [
        "**Compile data for Mason Water Budget**\n",
        "\n",
        "By: Carli Beisel\n",
        "\n",
        "Created: August 2024"
      ],
      "metadata": {
        "id": "aKe2ifkteNhc"
      }
    },
    {
      "cell_type": "markdown",
      "source": [
        "**Variables:**\n",
        "\n",
        "*qin* = streamflow at upstream gauge on reach\n",
        "\n",
        "*qout* = streamflow at downstream gauge on reach\n",
        "\n",
        "*sr* = surface runoff from agricultural irrigation\n",
        "\n",
        "*gw* = groundwater\n",
        "\n",
        "*evap* = potential open water evaporation"
      ],
      "metadata": {
        "id": "SByWyV1YeV8n"
      }
    },
    {
      "cell_type": "code",
      "execution_count": null,
      "metadata": {
        "id": "IVB_80tmeL5F",
        "colab": {
          "base_uri": "https://localhost:8080/"
        },
        "outputId": "e7386b9c-9318-4d1c-ce28-500c95cb40e8"
      },
      "outputs": [
        {
          "output_type": "stream",
          "name": "stdout",
          "text": [
            "Mounted at /content/drive\n"
          ]
        }
      ],
      "source": [
        "## --------------- ##\n",
        "## IMPORT PACKAGES ##\n",
        "## --------------- ##\n",
        "\n",
        "import pandas as pd\n",
        "import os\n",
        "import glob\n",
        "import numpy as np\n",
        "import pandas as pd\n",
        "import seaborn as sns\n",
        "import matplotlib.pyplot as plt\n",
        "\n",
        "from google.colab import drive\n",
        "drive.mount('/content/drive')"
      ]
    },
    {
      "cell_type": "markdown",
      "source": [
        "## Reach Water Budget Calculations & Data"
      ],
      "metadata": {
        "id": "dQum29fK50RF"
      }
    },
    {
      "cell_type": "code",
      "source": [
        "## --------------- ##\n",
        "##  LOAD DATASETS  ##\n",
        "## --------------- ##\n",
        "\n",
        "# Streamflow\n",
        "drainflow = pd.read_csv('/content/drive/MyDrive/Data/Mason Water Budget/data_output/drainflow_out/final_monthly_flow.csv')\n",
        "drainflow['Month'] = pd.to_datetime(drainflow['Month'], format='%Y-%m')\n",
        "drainflow['Reach'] = drainflow['Reach'].replace('Noble Drain', 'Noble Reach')\n",
        "\n",
        "# Precipitation\n",
        "precip = pd.read_csv('/content/drive/MyDrive/Data/Mason Water Budget/data_output/precip_out/reach_precip_monthly.csv')\n",
        "precip['Reach'] = precip['Reach'].replace('Noble Drain', 'Noble Reach')\n",
        "\n",
        "# Evaporation (PET)\n",
        "pet = pd.read_csv('/content/drive/MyDrive/Data/Mason Water Budget/data_output/pet_out/reach_pet.csv')\n",
        "pet['Month'] = pd.to_datetime(pet['Month'].astype(str) + '-2024', format='%m-%Y', errors='coerce')\n",
        "pet['Reach'] = pet['Reach'].replace('Noble Drain', 'Noble Reach')\n",
        "\n",
        "# Surface Runoff\n",
        "surface_runoff = pd.read_csv('/content/drive/MyDrive/Data/Mason Water Budget/data_output/irrigation_runoff_out/reach_runoff_final.csv')\n",
        "surface_runoff.rename(columns={'runoff(af)': 'SR (AF)'}, inplace=True)\n",
        "surface_runoff['Reach'] = surface_runoff['Reach'].replace('Noble Drain', 'Noble Reach')\n",
        "\n",
        "\n",
        "# Correct month formatting for surface runoff\n",
        "month_mapping = {\n",
        "    \"jan\": \"01\", \"feb\": \"02\", \"mar\": \"03\", \"apr\": \"04\",\n",
        "    \"may\": \"05\", \"jun\": \"06\", \"jul\": \"07\", \"aug\": \"08\",\n",
        "    \"sep\": \"09\", \"oct\": \"10\", \"nov\": \"11\", \"dec\": \"12\"\n",
        "}\n",
        "surface_runoff['Month'] = surface_runoff['month'].str.lower().map(month_mapping)\n",
        "surface_runoff['Month'] = pd.to_datetime(\"2024-\" + surface_runoff['Month'], format='%Y-%m', errors='coerce')\n",
        "\n",
        "# TVGWFM groundwater\n",
        "gw = pd.read_csv('/content/drive/MyDrive/Data/Mason Water Budget/data_output/groundwater_out/gw_final_kaf.csv')\n",
        "gw['Reach'] = gw['Reach'].replace('Noble Drain', 'Noble Reach')\n",
        "gw = gw[gw['Year'] == 2015]\n",
        "gw.drop(columns=['Stress Period', 'Year'], inplace=True)\n",
        "days_in_month = {\n",
        "    1: 31, 2: 28, 3: 31, 4: 30, 5: 31, 6: 30,\n",
        "    7: 31, 8: 31, 9: 30, 10: 31, 11: 30, 12: 31\n",
        "}\n",
        "gw['Days in Month'] = gw['Month'].map(days_in_month)\n",
        "gw['GW (AF)'] = (gw['Flow (cfperday)'] * gw['Days in Month']) / 43560\n",
        "gw['Month'] = gw['Month'].apply(lambda x: f'2024-{int(x):02d}-01')\n",
        "gw['Month'] = pd.to_datetime(gw['Month'], format='%Y-%m-%d')\n",
        "gw = gw[['Reach', 'Month', 'GW (AF)']]\n"
      ],
      "metadata": {
        "id": "xWuID_Y8yD-O"
      },
      "execution_count": null,
      "outputs": []
    },
    {
      "cell_type": "code",
      "source": [
        "## ------------------------------ ##\n",
        "##   Merge into one .csv file (KAF)\n",
        "## ------------------------------ ##\n",
        "\n",
        "drainflow_selected = drainflow[['Reach', 'Month', 'Qin', 'Qout']]\n",
        "\n",
        "pet_selected = pet[['Reach', 'Month', 'Reach Evap (AF)']]\n",
        "\n",
        "precip_selected = precip[['Reach', 'Month', 'Total Monthly Precip (AF)']]\n",
        "precip_selected['Month'] = pd.to_datetime(precip_selected['Month'], errors='coerce')\n",
        "\n",
        "surface_runoff_selected = surface_runoff[['Reach', 'Month', 'SR (AF)']]\n",
        "surface_runoff_selected['Reach'] = surface_runoff['Reach'].replace('Noble Drain', 'Noble Reach')\n",
        "\n",
        "# Merge the DataFrames on \"Reach\" and \"Month\"\n",
        "merged_df = drainflow_selected.merge(pet_selected, on=['Reach', 'Month'], how='outer')\n",
        "merged_df = merged_df.merge(precip_selected, on=['Reach', 'Month'], how='outer')\n",
        "merged_df = merged_df.merge(surface_runoff_selected, on=['Reach', 'Month'], how='outer')\n",
        "merged_df = merged_df.merge(gw, on=['Reach', 'Month'], how='outer')\n",
        "\n",
        "# Display the final merged DataFrame\n",
        "merged_df.to_csv('/content/drive/MyDrive/Data/Mason Water Budget/data_output/compiled_data/final_water_budget.csv')"
      ],
      "metadata": {
        "id": "ObogtTaoDATA",
        "colab": {
          "base_uri": "https://localhost:8080/"
        },
        "outputId": "030ac194-deff-4bb8-dd8c-32b4517d524e"
      },
      "execution_count": null,
      "outputs": [
        {
          "output_type": "stream",
          "name": "stderr",
          "text": [
            "<ipython-input-24-a036334d24aa>:10: SettingWithCopyWarning: \n",
            "A value is trying to be set on a copy of a slice from a DataFrame.\n",
            "Try using .loc[row_indexer,col_indexer] = value instead\n",
            "\n",
            "See the caveats in the documentation: https://pandas.pydata.org/pandas-docs/stable/user_guide/indexing.html#returning-a-view-versus-a-copy\n",
            "  precip_selected['Month'] = pd.to_datetime(precip_selected['Month'], errors='coerce')\n",
            "<ipython-input-24-a036334d24aa>:13: SettingWithCopyWarning: \n",
            "A value is trying to be set on a copy of a slice from a DataFrame.\n",
            "Try using .loc[row_indexer,col_indexer] = value instead\n",
            "\n",
            "See the caveats in the documentation: https://pandas.pydata.org/pandas-docs/stable/user_guide/indexing.html#returning-a-view-versus-a-copy\n",
            "  surface_runoff_selected['Reach'] = surface_runoff['Reach'].replace('Noble Drain', 'Noble Reach')\n"
          ]
        }
      ]
    },
    {
      "cell_type": "code",
      "source": [
        "# ---------------------------- #\n",
        "# Calculate Water Budget\n",
        "# --------------------------- #\n",
        "\n",
        "# with Runoff\n",
        "\n",
        "def calculate_wb_residual(df):\n",
        "    \"\"\"\n",
        "    Calculate the water budget residual (Qout - Qin) in acre-feet (AF) for each Gauge at each Month.\n",
        "\n",
        "    Parameters:\n",
        "    df (pd.DataFrame): DataFrame containing 'Gauge', 'Month', 'Qin', and 'Qout' columns.\n",
        "\n",
        "    Returns:\n",
        "    pd.DataFrame: DataFrame with an additional 'Flow Difference (AF)' column.\n",
        "    \"\"\"\n",
        "    # Ensure 'Qin' and 'Qout' are numeric\n",
        "    df['Qin (AF)'] = pd.to_numeric(df['Qin'], errors='coerce')\n",
        "    df['Qout (AF)'] = pd.to_numeric(df['Qout'], errors='coerce')\n",
        "    df['Precip (AF)'] = pd.to_numeric(df['Total Monthly Precip (AF)'], errors='coerce')\n",
        "    df['Evap (AF)'] = pd.to_numeric(df['Reach Evap (AF)'], errors='coerce')\n",
        "    df['SR (AF)'] = pd.to_numeric(df['SR (AF)'], errors='coerce')\n",
        "\n",
        "    # Calculate the flow difference ( Residual = output - input )\n",
        "    df['Residual (AF)'] = (df['Qout (AF)'] + df['Evap (AF)']) - (df['Qin (AF)'] + df['Precip (AF)']+ df[\"SR (AF)\"])\n",
        "\n",
        "    return df\n",
        "\n",
        "final_df = pd.read_csv('/content/drive/MyDrive/Data/Mason Water Budget/data_output/compiled_data/final_water_budget.csv')\n",
        "residual = calculate_wb_residual(final_df)\n",
        "residual = residual.drop_duplicates()\n",
        "residual.to_csv('/content/drive/MyDrive/Data/Mason Water Budget/data_output/compiled_data/final_water_budget_af.csv', index = False)"
      ],
      "metadata": {
        "id": "omHnF-hNzRWN"
      },
      "execution_count": null,
      "outputs": []
    },
    {
      "cell_type": "code",
      "source": [
        "# ---------------------------- #\n",
        "# Calculate Water Budget\n",
        "# --------------------------- #\n",
        "\n",
        "# NO RUNOFF\n",
        "\n",
        "def calculate_wb_residual(df):\n",
        "    \"\"\"\n",
        "    Calculate the water budget residual (Qout - Qin) in acre-feet (AF) for each Gauge at each Month.\n",
        "\n",
        "    Parameters:\n",
        "    df (pd.DataFrame): DataFrame containing 'Gauge', 'Month', 'Qin', and 'Qout' columns.\n",
        "\n",
        "    Returns:\n",
        "    pd.DataFrame: DataFrame with an additional 'Flow Difference (AF)' column.\n",
        "    \"\"\"\n",
        "    # Ensure 'Qin' and 'Qout' are numeric\n",
        "    df['Qin (AF)'] = pd.to_numeric(df['Qin'], errors='coerce')\n",
        "    df['Qout (AF)'] = pd.to_numeric(df['Qout'], errors='coerce')\n",
        "    df['Precip (AF)'] = pd.to_numeric(df['Total Monthly Precip (AF)'], errors='coerce')\n",
        "    df['Evap (AF)'] = pd.to_numeric(df['Reach Evap (AF)'], errors='coerce')\n",
        "\n",
        "    # Calculate the flow difference ( Residual = output - input )\n",
        "    df['Residual (AF)'] = (df['Qout (AF)'] + df['Evap (AF)']) - (df['Qin (AF)'] + df['Precip (AF)'])\n",
        "\n",
        "    return df\n",
        "\n",
        "final_df = pd.read_csv('/content/drive/MyDrive/Data/Mason Water Budget/data_output/compiled_data/final_water_budget_af.csv')\n",
        "residual = calculate_wb_residual(final_df)\n",
        "residual = residual.drop_duplicates()\n",
        "residual.to_csv('/content/drive/MyDrive/Data/Mason Water Budget/data_output/compiled_data/final_water_budget_norunoff.csv', index = False)"
      ],
      "metadata": {
        "id": "8-Bfslc1mWUb"
      },
      "execution_count": null,
      "outputs": []
    },
    {
      "cell_type": "markdown",
      "source": [
        "## Mason Drainshed Water Budget Calculations & Data"
      ],
      "metadata": {
        "id": "n4cr_U-854Dd"
      }
    },
    {
      "cell_type": "code",
      "source": [
        "# Import Data\n",
        "\n",
        "gw_mason = file.read_csv('/content/drive/MyDrive/Data/Mason Water Budget/data_output/groundwater_out/mason_gw_final_kaf.csv')\n",
        "precip_mason = file.read_csv('/content/drive/MyDrive/Data/Mason Water Budget/data_output/precip_out/mason_precip_monthly.csv')\n",
        "runoff_mason = file.read_csv('/content/drive/MyDrive/Data/Mason Water Budget/data_output/irrigation_runoff_out/mason_runoff_final.csv')\n",
        "pet_mason = file.read_csv('/content/drive/MyDrive/Data/Mason Water Budget/data_output/pet_out/mason_pet.csv')\n",
        "\n"
      ],
      "metadata": {
        "id": "mPc_vpDr57ek"
      },
      "execution_count": null,
      "outputs": []
    }
  ]
}