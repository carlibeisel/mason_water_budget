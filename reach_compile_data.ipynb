{
  "nbformat": 4,
  "nbformat_minor": 0,
  "metadata": {
    "colab": {
      "provenance": [],
      "authorship_tag": "ABX9TyNMz1VOOuIwv0gVi6vtZhLw",
      "include_colab_link": true
    },
    "kernelspec": {
      "name": "python3",
      "display_name": "Python 3"
    },
    "language_info": {
      "name": "python"
    }
  },
  "cells": [
    {
      "cell_type": "markdown",
      "metadata": {
        "id": "view-in-github",
        "colab_type": "text"
      },
      "source": [
        "<a href=\"https://colab.research.google.com/github/carlibeisel/mason_water_budget/blob/main/reach_compile_data.ipynb\" target=\"_parent\"><img src=\"https://colab.research.google.com/assets/colab-badge.svg\" alt=\"Open In Colab\"/></a>"
      ]
    },
    {
      "cell_type": "markdown",
      "source": [
        "**Compile data for Mason Water Budget**\n",
        "\n",
        "By: Carli Beisel\n",
        "\n",
        "Created: August 2024"
      ],
      "metadata": {
        "id": "aKe2ifkteNhc"
      }
    },
    {
      "cell_type": "markdown",
      "source": [
        "**Variables:**\n",
        "\n",
        "*qin* = streamflow at upstream gauge on reach\n",
        "\n",
        "*qout* = streamflow at downstream gauge on reach\n",
        "\n",
        "*sr* = surface runoff from agricultural irrigation\n",
        "\n",
        "*gw* = groundwater\n",
        "\n",
        "*pet* = potential evapotranspiration"
      ],
      "metadata": {
        "id": "SByWyV1YeV8n"
      }
    },
    {
      "cell_type": "code",
      "execution_count": 1,
      "metadata": {
        "id": "IVB_80tmeL5F",
        "colab": {
          "base_uri": "https://localhost:8080/"
        },
        "outputId": "d3ee19d5-6e9f-48b3-a07f-90cd0dcbeb53"
      },
      "outputs": [
        {
          "output_type": "stream",
          "name": "stdout",
          "text": [
            "Mounted at /content/drive\n"
          ]
        }
      ],
      "source": [
        "## --------------- ##\n",
        "## IMPORT PACKAGES ##\n",
        "## --------------- ##\n",
        "\n",
        "import pandas as pd\n",
        "import os\n",
        "import glob\n",
        "import numpy as np\n",
        "import pandas as pd\n",
        "import seaborn as sns\n",
        "import matplotlib.pyplot as plt\n",
        "\n",
        "from google.colab import drive\n",
        "drive.mount('/content/drive')"
      ]
    },
    {
      "cell_type": "code",
      "source": [
        "## --------------- ##\n",
        "##  LOAD DATASETS  ##\n",
        "## --------------- ##\n",
        "\n",
        "#streamflow\n",
        "drainflow = pd.read_csv('/content/drive/MyDrive/Data/Mason Water Budget/data_output/drainflow_out/final_monthly_flow.csv')\n",
        "drainflow['Month'] = pd.to_datetime(drainflow['Month'], format='%Y-%m' )\n",
        "drainflow['Qin (cfs)'] = drainflow['Qin']\n",
        "drainflow['Qout (cfs)'] = drainflow['Qout']\n",
        "\n",
        "# Precipitation\n",
        "precip = pd.read_csv('/content/drive/MyDrive/Data/Mason Water Budget/data_output/precip_out/reach_precip_monthly.csv')\n",
        "\n",
        "# Calculate days in each month dynamically\n",
        "precip['Month'] = pd.to_datetime(precip['Month'], format='%Y-%m')\n",
        "precip['Days in Month'] = precip['Month'].dt.days_in_month\n",
        "\n",
        "# Convert from AF to cfs using dynamic conversion\n",
        "precip['Precip (cfs)'] = (precip['Total Monthly Precip (AF)'] * 43560) / (precip['Days in Month'] * 86400)\n",
        "\n",
        "# Evaporation (PET)\n",
        "pet = pd.read_csv('/content/drive/MyDrive/Data/Mason Water Budget/data_output/pet_out/reach_pet.csv')\n",
        "pet['Month'] = pd.to_datetime(pet['Month'], format='%m')\n",
        "pet['Days in Month'] = pet['Month'].dt.days_in_month\n",
        "\n",
        "# Convert from AF to cfs for PET\n",
        "pet['PET (cfs)'] = (pet['Reach Evap (AF)'] * 43560) / (pet['Days in Month'] * 86400)\n",
        "\n",
        "# Surface Runoff\n",
        "surface_runoff = pd.read_csv('/content/drive/MyDrive/Data/Mason Water Budget/data_output/irrigation_runoff_out/reach_monthly_runoff_final.csv')\n",
        "\n",
        "# Correct month formatting for surface runoff\n",
        "month_mapping = {\n",
        "    \"jan\": \"01\", \"feb\": \"02\", \"mar\": \"03\", \"apr\": \"04\",\n",
        "    \"may\": \"05\", \"jun\": \"06\", \"jul\": \"07\", \"aug\": \"08\",\n",
        "    \"sep\": \"09\", \"oct\": \"10\", \"nov\": \"11\", \"dec\": \"12\"\n",
        "}\n",
        "surface_runoff['month'] = surface_runoff['month'].str.lower().map(month_mapping)\n",
        "surface_runoff['Month'] = pd.to_datetime(\"2024-\" + surface_runoff['month'], format='%Y-%m')\n",
        "surface_runoff['SR (cfs)'] = surface_runoff['flow(cfs)']"
      ],
      "metadata": {
        "id": "MUIlqullHQUK"
      },
      "execution_count": 18,
      "outputs": []
    },
    {
      "cell_type": "code",
      "source": [
        "## ------------------------------ ##\n",
        "##   Merge into one .csv file (cfs)\n",
        "## ------------------------------ ##\n",
        "\n",
        "drainflow_selected = drainflow[['Reach', 'Month', 'Qin (cfs)', 'Qout (cfs)']]\n",
        "pet_selected = pet[['Reach', 'Month', 'PET (cfs)']]\n",
        "precip_selected = precip[['Reach', 'Month', 'Precip (cfs)']]\n",
        "surface_runoff_selected = surface_runoff[['Reach', 'Month', 'SR (cfs)']]\n",
        "\n",
        "# Merge the DataFrames on \"Reach\" and \"Month\"\n",
        "merged_df = drainflow_selected.merge(pet_selected, on=['Reach', 'Month'], how='outer')\n",
        "merged_df = merged_df.merge(precip_selected, on=['Reach', 'Month'], how='outer')\n",
        "merged_df = merged_df.merge(surface_runoff_selected, on=['Reach', 'Month'], how='outer')\n",
        "\n",
        "# Display the final merged DataFrame\n",
        "merged_df.to_csv('/content/drive/MyDrive/Data/Mason Water Budget/data_output/compiled_data/final_water_budget_cfs.csv')"
      ],
      "metadata": {
        "id": "Zbc9Kmowj4uB"
      },
      "execution_count": 20,
      "outputs": []
    },
    {
      "cell_type": "code",
      "source": [
        "## ------------------------------ ##\n",
        "##   Merge into one .csv file (KAF)\n",
        "## ------------------------------ ##\n",
        "\n",
        "drainflow_selected = drainflow[['Reach', 'Month', 'Qin (KAF)', 'Qout (KAF)']]\n",
        "pet_selected = pet[['Reach', 'Month', 'PET (KAF)']]\n",
        "precip_selected = precip[['Reach', 'Month', 'Precip (KAF)']]\n",
        "surface_runoff_selected = surface_runoff[['Reach', 'Month', 'SR (KAF)']]\n",
        "\n",
        "# Merge the DataFrames on \"Reach\" and \"Month\"\n",
        "merged_df = drainflow_selected.merge(pet_selected, on=['Reach', 'Month'], how='outer')\n",
        "merged_df = merged_df.merge(precip_selected, on=['Reach', 'Month'], how='outer')\n",
        "merged_df = merged_df.merge(surface_runoff_selected, on=['Reach', 'Month'], how='outer')\n",
        "\n",
        "# Display the final merged DataFrame\n",
        "merged_df.to_csv('/content/drive/MyDrive/Data/Mason Water Budget/data_output/compiled_data/final_water_budget_kaf.csv')"
      ],
      "metadata": {
        "id": "ObogtTaoDATA"
      },
      "execution_count": null,
      "outputs": []
    },
    {
      "cell_type": "code",
      "source": [
        "# ---------------------------- #\n",
        "# Calculate Water Budget\n",
        "# --------------------------- #\n",
        "def calculate_wb_residual(df):\n",
        "    \"\"\"\n",
        "    Calculate the water budget residual (Qout - Qin) in acre-feet (AF) for each Gauge at each Month.\n",
        "\n",
        "    Parameters:\n",
        "    df (pd.DataFrame): DataFrame containing 'Gauge', 'Month', 'Qin', and 'Qout' columns.\n",
        "\n",
        "    Returns:\n",
        "    pd.DataFrame: DataFrame with an additional 'Flow Difference (AF)' column.\n",
        "    \"\"\"\n",
        "    # Ensure 'Qin' and 'Qout' are numeric\n",
        "    df['Qin (cfs)'] = pd.to_numeric(df['Qin (cfs)'], errors='coerce')\n",
        "    df['Qout (cfs)'] = pd.to_numeric(df['Qout (cfs)'], errors='coerce')\n",
        "    df['Precip (cfs)'] = pd.to_numeric(df['Precip (cfs)'], errors='coerce')\n",
        "    df['PET (cfs)'] = pd.to_numeric(df['PET (cfs)'], errors='coerce')\n",
        "    df['SR (cfs)'] = pd.to_numeric(df['SR (cfs)'], errors='coerce')\n",
        "\n",
        "    # Calculate the flow difference ( Residual = output - input )\n",
        "    df['Residual (cfs)'] = (df['Qout (cfs)'] + df['PET (cfs)']) - (df['Qin (cfs)'] + df['Precip (cfs)'])\n",
        "\n",
        "    return df\n",
        "\n",
        "final_df = pd.read_csv('/content/drive/MyDrive/Data/Mason Water Budget/data_output/compiled_data/final_water_budget_cfs.csv')\n",
        "residual = calculate_wb_residual(final_df)\n",
        "residual.to_csv('/content/drive/MyDrive/Data/Mason Water Budget/data_output/compiled_data/final_water_budget_cfs.csv', index = False)"
      ],
      "metadata": {
        "id": "omHnF-hNzRWN"
      },
      "execution_count": 21,
      "outputs": []
    }
  ]
}