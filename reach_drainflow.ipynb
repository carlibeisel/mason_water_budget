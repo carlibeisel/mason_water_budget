{
  "nbformat": 4,
  "nbformat_minor": 0,
  "metadata": {
    "colab": {
      "provenance": [],
      "authorship_tag": "ABX9TyNxQqSDA4REwBpwPqOi5xF1",
      "include_colab_link": true
    },
    "kernelspec": {
      "name": "python3",
      "display_name": "Python 3"
    },
    "language_info": {
      "name": "python"
    }
  },
  "cells": [
    {
      "cell_type": "markdown",
      "metadata": {
        "id": "view-in-github",
        "colab_type": "text"
      },
      "source": [
        "<a href=\"https://colab.research.google.com/github/carlibeisel/mason_water_budget/blob/main/reach_drainflow.ipynb\" target=\"_parent\"><img src=\"https://colab.research.google.com/assets/colab-badge.svg\" alt=\"Open In Colab\"/></a>"
      ]
    },
    {
      "cell_type": "markdown",
      "source": [
        "**Reach Drainflow**\n",
        "\n",
        "By Carli Beisel\n",
        "\n",
        "Created: August 2024\n",
        "\n",
        "Purpose: Compile and clean drainflow data for each reach.\n",
        "\n",
        "\n",
        "\n",
        "**Reach**\n",
        "\n",
        "There are 6 reaches total in Mason Drainage. 4 on Mason Creek, 1 on Solomon Drain, and 1 on Purdum Drain.\n",
        "\n",
        "*Qin* is the upstream gauge on the Reach, and *Qout* is the downstream gauge."
      ],
      "metadata": {
        "id": "8GNRIrkqfOYL"
      }
    },
    {
      "cell_type": "code",
      "execution_count": null,
      "metadata": {
        "id": "8AR-PdmVe7at",
        "colab": {
          "base_uri": "https://localhost:8080/"
        },
        "outputId": "3e67d678-73c2-4e9d-977a-f53fe73dedca"
      },
      "outputs": [
        {
          "output_type": "stream",
          "name": "stdout",
          "text": [
            "Mounted at /content/drive\n"
          ]
        }
      ],
      "source": [
        "## --------------- ##\n",
        "## IMPORT PACKAGES ##\n",
        "## --------------- ##\n",
        "\n",
        "import pandas as pd # to work with dataframe\n",
        "import os # for file paths\n",
        "import glob # read in a folder of csv\n",
        "import numpy as np # basic statistics\n",
        "\n",
        "from google.colab import drive\n",
        "drive.mount('/content/drive')"
      ]
    },
    {
      "cell_type": "code",
      "source": [
        "## --------------- ##\n",
        "##  LOAD DATASETS  ##\n",
        "## --------------- ##\n",
        "\n",
        "drainflows = glob.glob ('/content/drive/MyDrive/Data/Mason/drainflow/ethos_gauges/*.csv')"
      ],
      "metadata": {
        "id": "3M_ZGyMuIXPH"
      },
      "execution_count": null,
      "outputs": []
    },
    {
      "cell_type": "code",
      "source": [
        "## --------------- ##\n",
        "##    Clean Data   ##\n",
        "## --------------- ##\n",
        "\n",
        "# remove NA and 0\n",
        "\n",
        "# reoder date convention?"
      ],
      "metadata": {
        "id": "jHweKVzmIf8o"
      },
      "execution_count": null,
      "outputs": []
    },
    {
      "cell_type": "code",
      "source": [
        "## ------------------------------------- ##\n",
        "##   Average daily flow for each gauge   ##\n",
        "## ------------------------------------- ##"
      ],
      "metadata": {
        "id": "f4fSy_3vIkwB"
      },
      "execution_count": null,
      "outputs": []
    },
    {
      "cell_type": "code",
      "source": [
        "## -------------------------------- ##\n",
        "##   Compile data in to each Reach  ##\n",
        "## -------------------------------- ##\n",
        "\n",
        "# Reach 1\n",
        "\n",
        "# Reach 2\n",
        "\n",
        "# Reach 3\n",
        "\n",
        "# Reach 4\n",
        "\n",
        "# Noble Reach\n",
        "\n",
        "# Solomon Reach"
      ],
      "metadata": {
        "id": "Ef7_afLaIriK"
      },
      "execution_count": null,
      "outputs": []
    },
    {
      "cell_type": "code",
      "source": [
        "## -------------------------------- ##\n",
        "##      Export Final Datasets       ##\n",
        "## -------------------------------- ##\n",
        "\n",
        "# Merged Dataset\n",
        "\n",
        "output_file = '/content/drive/MyDrive/Data/Mason/drainflow/merged_drainflow.csv'\n",
        "\n",
        "# Indiviudal Reach Dataset\n",
        "\n",
        "output_directory = '/content/drive/MyDrive/Data/Mason/drainflow/reach_drainflow/'\n",
        "\n"
      ],
      "metadata": {
        "id": "q7e4huk7JVt9"
      },
      "execution_count": null,
      "outputs": []
    }
  ]
}