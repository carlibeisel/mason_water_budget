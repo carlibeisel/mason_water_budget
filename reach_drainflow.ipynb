{
  "nbformat": 4,
  "nbformat_minor": 0,
  "metadata": {
    "colab": {
      "provenance": [],
      "authorship_tag": "ABX9TyM2SJcCbXaXR+DkSCc1i2JJ",
      "include_colab_link": true
    },
    "kernelspec": {
      "name": "python3",
      "display_name": "Python 3"
    },
    "language_info": {
      "name": "python"
    }
  },
  "cells": [
    {
      "cell_type": "markdown",
      "metadata": {
        "id": "view-in-github",
        "colab_type": "text"
      },
      "source": [
        "<a href=\"https://colab.research.google.com/github/carlibeisel/mason_water_budget/blob/main/reach_drainflow.ipynb\" target=\"_parent\"><img src=\"https://colab.research.google.com/assets/colab-badge.svg\" alt=\"Open In Colab\"/></a>"
      ]
    },
    {
      "cell_type": "markdown",
      "source": [
        "**Reach Drainflow**\n",
        "\n",
        "By Carli Beisel\n",
        "\n",
        "Created: August 2024\n",
        "\n",
        "Purpose: Compile and clean drainflow data for each reach.\n",
        "\n",
        "\n",
        "\n",
        "**Reach**\n",
        "\n",
        "There are 6 reaches total in Mason Drainage. 4 on Mason Creek, 1 on Solomon Drain, and 1 on Purdum Drain.\n",
        "\n",
        "*Qin* is the upstream gauge on the Reach, and *Qout* is the downstream gauge."
      ],
      "metadata": {
        "id": "8GNRIrkqfOYL"
      }
    },
    {
      "cell_type": "code",
      "execution_count": 1,
      "metadata": {
        "id": "8AR-PdmVe7at",
        "colab": {
          "base_uri": "https://localhost:8080/"
        },
        "outputId": "d8e089f0-ad92-40df-d2cf-bbe4aa845e87"
      },
      "outputs": [
        {
          "output_type": "stream",
          "name": "stdout",
          "text": [
            "Mounted at /content/drive\n"
          ]
        }
      ],
      "source": [
        "## --------------- ##\n",
        "## IMPORT PACKAGES ##\n",
        "## --------------- ##\n",
        "\n",
        "import pandas as pd # to work with dataframe\n",
        "import os # for file paths\n",
        "import glob # read in a folder of csv\n",
        "import numpy as np # basic statistics\n",
        "\n",
        "from google.colab import drive\n",
        "drive.mount('/content/drive')"
      ]
    },
    {
      "cell_type": "code",
      "source": [
        "## --------------- ##\n",
        "##  LOAD DATASETS  ##\n",
        "## --------------- ##\n",
        "\n",
        "drainflows = glob.glob ('/content/drive/MyDrive/Data/Mason/drainflow/ethos_gauges/*.csv')"
      ],
      "metadata": {
        "id": "3M_ZGyMuIXPH"
      },
      "execution_count": 2,
      "outputs": []
    },
    {
      "cell_type": "code",
      "source": [
        "file = pd.read_csv('/content/drive/MyDrive/Data/Mason/drainflow/ethos_gauges/Purdum at Sweetwater.csv')"
      ],
      "metadata": {
        "id": "vmd3lZi9vexG"
      },
      "execution_count": 4,
      "outputs": []
    },
    {
      "cell_type": "code",
      "source": [
        "## --------------- ##\n",
        "##    Clean Data   ##\n",
        "## --------------- ##\n",
        "\n",
        "# remove NA and 0"
      ],
      "metadata": {
        "id": "jHweKVzmIf8o"
      },
      "execution_count": null,
      "outputs": []
    },
    {
      "cell_type": "code",
      "source": [
        "## ------------------------------------- ##\n",
        "##   Average daily flow for each gauge   ##\n",
        "## ------------------------------------- ##\n",
        "\n",
        "average_streamflows = pd.DataFrame()\n",
        "\n",
        "for file in drainflows:\n",
        "    df = pd.read_csv(file)\n",
        "    df['Time'] = pd.to_datetime(df['Time'])\n",
        "    df['Date'] = df['Time'].dt.date\n",
        "    gauge_name = os.path.basename(file).replace('.csv', '') # extract the gauge name from the file\n",
        "    daily_avg = df.groupby('Date')['Flow'].mean().reset_index() #g roup by date and compute flows\n",
        "    daily_avg['Gauge'] = gauge_name # add gauge name as new column\n",
        "    average_streamflows = pd.concat([average_streamflows, daily_avg])\n",
        "\n",
        "average_streamflows.to_csv('/content/drive/MyDrive/Data/Mason/drainflow/ethos_gauges/average_drainflows.csv', index=False)\n"
      ],
      "metadata": {
        "id": "f4fSy_3vIkwB"
      },
      "execution_count": 10,
      "outputs": []
    },
    {
      "cell_type": "code",
      "source": [
        "df = pd.read_csv('/content/drive/MyDrive/Data/Mason/drainflow/ethos_gauges/average_drainflows.csv')"
      ],
      "metadata": {
        "id": "dVknhqDcwk1G"
      },
      "execution_count": 15,
      "outputs": []
    },
    {
      "cell_type": "code",
      "source": [
        "## -------------------------------- ##\n",
        "##   Compile data in to each Reach  ##\n",
        "## -------------------------------- ##\n",
        "\n",
        "# Reach 1 (Mason Creek at Phyllis --> Mason Creek at Madison)\n",
        "#reach1_qin =\n",
        "#reach1_qout =\n",
        "\n",
        "# Reach 2 (Mason Creek at Madison --> Mason Creek at Ustick and Northside)\n",
        "#reach2_qin =\n",
        "#reach2_qout =\n",
        "\n",
        "# Reach 3 (Mason Creek at Ustick and Northside --> Mason Creek at Marble Front Road)\n",
        "#reach3_qin =\n",
        "#reach3_qout =\n",
        "\n",
        "# Reach 4 (Mason Creek at Marble Front Road --> Mason Creek USGS Gauge)\n",
        "#reach4_qin =\n",
        "#reach4_qout =\n",
        "\n",
        "\n",
        "# Purdum Reach (Purdum at Phyllis --> Purdum at Sweetwater)\n",
        "purdum_qin = df['Purdum at Phyllis']\n",
        "purdum_qout = df['Purdum at Sweetwater']\n",
        "\n",
        "# Solomon Reach (Solomon Drain at Highline Canal --> Solomon Drain at Marble Front Road)\n",
        "#solomon_qin = df['Solomon Drain at Highline Canal']\n",
        "#solomon_qout = df['Solomon Drain at Marble Front Road']"
      ],
      "metadata": {
        "id": "Ef7_afLaIriK",
        "colab": {
          "base_uri": "https://localhost:8080/",
          "height": 561
        },
        "outputId": "c6da4670-e641-460d-881d-9ad466b05d10"
      },
      "execution_count": 14,
      "outputs": [
        {
          "output_type": "error",
          "ename": "KeyError",
          "evalue": "'Purdum at Phyllis'",
          "traceback": [
            "\u001b[0;31m---------------------------------------------------------------------------\u001b[0m",
            "\u001b[0;31mKeyError\u001b[0m                                  Traceback (most recent call last)",
            "\u001b[0;32m/usr/local/lib/python3.10/dist-packages/pandas/core/indexes/base.py\u001b[0m in \u001b[0;36mget_loc\u001b[0;34m(self, key)\u001b[0m\n\u001b[1;32m   3790\u001b[0m         \u001b[0;32mtry\u001b[0m\u001b[0;34m:\u001b[0m\u001b[0;34m\u001b[0m\u001b[0;34m\u001b[0m\u001b[0m\n\u001b[0;32m-> 3791\u001b[0;31m             \u001b[0;32mreturn\u001b[0m \u001b[0mself\u001b[0m\u001b[0;34m.\u001b[0m\u001b[0m_engine\u001b[0m\u001b[0;34m.\u001b[0m\u001b[0mget_loc\u001b[0m\u001b[0;34m(\u001b[0m\u001b[0mcasted_key\u001b[0m\u001b[0;34m)\u001b[0m\u001b[0;34m\u001b[0m\u001b[0;34m\u001b[0m\u001b[0m\n\u001b[0m\u001b[1;32m   3792\u001b[0m         \u001b[0;32mexcept\u001b[0m \u001b[0mKeyError\u001b[0m \u001b[0;32mas\u001b[0m \u001b[0merr\u001b[0m\u001b[0;34m:\u001b[0m\u001b[0;34m\u001b[0m\u001b[0;34m\u001b[0m\u001b[0m\n",
            "\u001b[0;32mindex.pyx\u001b[0m in \u001b[0;36mpandas._libs.index.IndexEngine.get_loc\u001b[0;34m()\u001b[0m\n",
            "\u001b[0;32mindex.pyx\u001b[0m in \u001b[0;36mpandas._libs.index.IndexEngine.get_loc\u001b[0;34m()\u001b[0m\n",
            "\u001b[0;32mpandas/_libs/hashtable_class_helper.pxi\u001b[0m in \u001b[0;36mpandas._libs.hashtable.PyObjectHashTable.get_item\u001b[0;34m()\u001b[0m\n",
            "\u001b[0;32mpandas/_libs/hashtable_class_helper.pxi\u001b[0m in \u001b[0;36mpandas._libs.hashtable.PyObjectHashTable.get_item\u001b[0;34m()\u001b[0m\n",
            "\u001b[0;31mKeyError\u001b[0m: 'Purdum at Phyllis'",
            "\nThe above exception was the direct cause of the following exception:\n",
            "\u001b[0;31mKeyError\u001b[0m                                  Traceback (most recent call last)",
            "\u001b[0;32m<ipython-input-14-82210c57a724>\u001b[0m in \u001b[0;36m<cell line: 23>\u001b[0;34m()\u001b[0m\n\u001b[1;32m     21\u001b[0m \u001b[0;34m\u001b[0m\u001b[0m\n\u001b[1;32m     22\u001b[0m \u001b[0;31m# Purdum Reach (Purdum at Phyllis --> Purdum at Sweetwater)\u001b[0m\u001b[0;34m\u001b[0m\u001b[0;34m\u001b[0m\u001b[0m\n\u001b[0;32m---> 23\u001b[0;31m \u001b[0mpurdum_qin\u001b[0m \u001b[0;34m=\u001b[0m \u001b[0mdf\u001b[0m\u001b[0;34m[\u001b[0m\u001b[0;34m'Purdum at Phyllis'\u001b[0m\u001b[0;34m]\u001b[0m\u001b[0;34m\u001b[0m\u001b[0;34m\u001b[0m\u001b[0m\n\u001b[0m\u001b[1;32m     24\u001b[0m \u001b[0mpurdum_qout\u001b[0m \u001b[0;34m=\u001b[0m \u001b[0mdf\u001b[0m\u001b[0;34m[\u001b[0m\u001b[0;34m'Purdum at Sweetwater'\u001b[0m\u001b[0;34m]\u001b[0m\u001b[0;34m\u001b[0m\u001b[0;34m\u001b[0m\u001b[0m\n\u001b[1;32m     25\u001b[0m \u001b[0;34m\u001b[0m\u001b[0m\n",
            "\u001b[0;32m/usr/local/lib/python3.10/dist-packages/pandas/core/frame.py\u001b[0m in \u001b[0;36m__getitem__\u001b[0;34m(self, key)\u001b[0m\n\u001b[1;32m   3891\u001b[0m             \u001b[0;32mif\u001b[0m \u001b[0mself\u001b[0m\u001b[0;34m.\u001b[0m\u001b[0mcolumns\u001b[0m\u001b[0;34m.\u001b[0m\u001b[0mnlevels\u001b[0m \u001b[0;34m>\u001b[0m \u001b[0;36m1\u001b[0m\u001b[0;34m:\u001b[0m\u001b[0;34m\u001b[0m\u001b[0;34m\u001b[0m\u001b[0m\n\u001b[1;32m   3892\u001b[0m                 \u001b[0;32mreturn\u001b[0m \u001b[0mself\u001b[0m\u001b[0;34m.\u001b[0m\u001b[0m_getitem_multilevel\u001b[0m\u001b[0;34m(\u001b[0m\u001b[0mkey\u001b[0m\u001b[0;34m)\u001b[0m\u001b[0;34m\u001b[0m\u001b[0;34m\u001b[0m\u001b[0m\n\u001b[0;32m-> 3893\u001b[0;31m             \u001b[0mindexer\u001b[0m \u001b[0;34m=\u001b[0m \u001b[0mself\u001b[0m\u001b[0;34m.\u001b[0m\u001b[0mcolumns\u001b[0m\u001b[0;34m.\u001b[0m\u001b[0mget_loc\u001b[0m\u001b[0;34m(\u001b[0m\u001b[0mkey\u001b[0m\u001b[0;34m)\u001b[0m\u001b[0;34m\u001b[0m\u001b[0;34m\u001b[0m\u001b[0m\n\u001b[0m\u001b[1;32m   3894\u001b[0m             \u001b[0;32mif\u001b[0m \u001b[0mis_integer\u001b[0m\u001b[0;34m(\u001b[0m\u001b[0mindexer\u001b[0m\u001b[0;34m)\u001b[0m\u001b[0;34m:\u001b[0m\u001b[0;34m\u001b[0m\u001b[0;34m\u001b[0m\u001b[0m\n\u001b[1;32m   3895\u001b[0m                 \u001b[0mindexer\u001b[0m \u001b[0;34m=\u001b[0m \u001b[0;34m[\u001b[0m\u001b[0mindexer\u001b[0m\u001b[0;34m]\u001b[0m\u001b[0;34m\u001b[0m\u001b[0;34m\u001b[0m\u001b[0m\n",
            "\u001b[0;32m/usr/local/lib/python3.10/dist-packages/pandas/core/indexes/base.py\u001b[0m in \u001b[0;36mget_loc\u001b[0;34m(self, key)\u001b[0m\n\u001b[1;32m   3796\u001b[0m             ):\n\u001b[1;32m   3797\u001b[0m                 \u001b[0;32mraise\u001b[0m \u001b[0mInvalidIndexError\u001b[0m\u001b[0;34m(\u001b[0m\u001b[0mkey\u001b[0m\u001b[0;34m)\u001b[0m\u001b[0;34m\u001b[0m\u001b[0;34m\u001b[0m\u001b[0m\n\u001b[0;32m-> 3798\u001b[0;31m             \u001b[0;32mraise\u001b[0m \u001b[0mKeyError\u001b[0m\u001b[0;34m(\u001b[0m\u001b[0mkey\u001b[0m\u001b[0;34m)\u001b[0m \u001b[0;32mfrom\u001b[0m \u001b[0merr\u001b[0m\u001b[0;34m\u001b[0m\u001b[0;34m\u001b[0m\u001b[0m\n\u001b[0m\u001b[1;32m   3799\u001b[0m         \u001b[0;32mexcept\u001b[0m \u001b[0mTypeError\u001b[0m\u001b[0;34m:\u001b[0m\u001b[0;34m\u001b[0m\u001b[0;34m\u001b[0m\u001b[0m\n\u001b[1;32m   3800\u001b[0m             \u001b[0;31m# If we have a listlike key, _check_indexing_error will raise\u001b[0m\u001b[0;34m\u001b[0m\u001b[0;34m\u001b[0m\u001b[0m\n",
            "\u001b[0;31mKeyError\u001b[0m: 'Purdum at Phyllis'"
          ]
        }
      ]
    },
    {
      "cell_type": "code",
      "source": [
        "## -------------------------------- ##\n",
        "##      Export Final Datasets       ##\n",
        "## -------------------------------- ##\n",
        "\n",
        "# Indiviudal Reach Dataset\n",
        "\n",
        "output_directory = '/content/drive/MyDrive/Data/Mason/drainflow/reach_drainflow/'\n",
        "\n"
      ],
      "metadata": {
        "id": "q7e4huk7JVt9"
      },
      "execution_count": null,
      "outputs": []
    }
  ]
}