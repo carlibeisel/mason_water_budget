{
  "nbformat": 4,
  "nbformat_minor": 0,
  "metadata": {
    "colab": {
      "provenance": [],
      "authorship_tag": "ABX9TyNYKL0cBO5Bt+gvN5Uq9khr",
      "include_colab_link": true
    },
    "kernelspec": {
      "name": "python3",
      "display_name": "Python 3"
    },
    "language_info": {
      "name": "python"
    }
  },
  "cells": [
    {
      "cell_type": "markdown",
      "metadata": {
        "id": "view-in-github",
        "colab_type": "text"
      },
      "source": [
        "<a href=\"https://colab.research.google.com/github/carlibeisel/mason_water_budget/blob/main/compile_data.ipynb\" target=\"_parent\"><img src=\"https://colab.research.google.com/assets/colab-badge.svg\" alt=\"Open In Colab\"/></a>"
      ]
    },
    {
      "cell_type": "markdown",
      "source": [
        "**Compile data for Mason Water Budget**\n",
        "\n",
        "By: Carli Beisel\n",
        "\n",
        "Created: August 2024"
      ],
      "metadata": {
        "id": "aKe2ifkteNhc"
      }
    },
    {
      "cell_type": "markdown",
      "source": [
        "**Variables:**\n",
        "\n",
        "*qin* = streamflow at upstream gauge on reach\n",
        "\n",
        "*qout* = streamflow at downstream gauge on reach\n",
        "\n",
        "*sr* = surface runoff from agricultural irrigation\n",
        "\n",
        "*gw* = groundwater\n",
        "\n",
        "*pet* = potential evapotranspiration"
      ],
      "metadata": {
        "id": "SByWyV1YeV8n"
      }
    },
    {
      "cell_type": "markdown",
      "source": [
        "## 1. Import Libraries and Datasets ##"
      ],
      "metadata": {
        "id": "4fHZlDOaG8Rr"
      }
    },
    {
      "cell_type": "code",
      "execution_count": null,
      "metadata": {
        "id": "IVB_80tmeL5F"
      },
      "outputs": [],
      "source": [
        "## --------------- ##\n",
        "## IMPORT PACKAGES ##\n",
        "## --------------- ##\n",
        "\n",
        "import pandas as pd # to work with dataframe\n",
        "import os # for file paths\n",
        "import glob # read in a folder of csv\n",
        "import numpy as np # basic statistics\n",
        "\n",
        "from google.colab import drive\n",
        "drive.mount('/content/drive')"
      ]
    },
    {
      "cell_type": "code",
      "source": [
        "## --------------- ##\n",
        "##  LOAD DATASETS  ##\n",
        "## --------------- ##\n",
        "\n",
        "drainflow = pd.read_csv('')\n",
        "\n",
        "sr = pd.read_csv('')\n",
        "\n",
        "pet = pd.read_csv('')\n",
        "\n",
        "gw = pd.read_csv('')\n"
      ],
      "metadata": {
        "colab": {
          "base_uri": "https://localhost:8080/",
          "height": 198
        },
        "id": "MUIlqullHQUK",
        "outputId": "3e6574db-1709-4414-c10c-c91e786b7d34"
      },
      "execution_count": 1,
      "outputs": [
        {
          "output_type": "error",
          "ename": "NameError",
          "evalue": "name 'qin' is not defined",
          "traceback": [
            "\u001b[0;31m---------------------------------------------------------------------------\u001b[0m",
            "\u001b[0;31mNameError\u001b[0m                                 Traceback (most recent call last)",
            "\u001b[0;32m<ipython-input-1-756840b0bd21>\u001b[0m in \u001b[0;36m<cell line: 1>\u001b[0;34m()\u001b[0m\n\u001b[0;32m----> 1\u001b[0;31m \u001b[0mqin\u001b[0m\u001b[0;34m\u001b[0m\u001b[0;34m\u001b[0m\u001b[0m\n\u001b[0m\u001b[1;32m      2\u001b[0m \u001b[0;34m\u001b[0m\u001b[0m\n\u001b[1;32m      3\u001b[0m \u001b[0mqout\u001b[0m\u001b[0;34m\u001b[0m\u001b[0;34m\u001b[0m\u001b[0m\n\u001b[1;32m      4\u001b[0m \u001b[0;34m\u001b[0m\u001b[0m\n",
            "\u001b[0;31mNameError\u001b[0m: name 'qin' is not defined"
          ]
        }
      ]
    },
    {
      "cell_type": "markdown",
      "source": [
        "## 2. Merge Datasets ##"
      ],
      "metadata": {
        "id": "2Nsk0ZGhHmf3"
      }
    },
    {
      "cell_type": "code",
      "source": [
        "## ------------------------------------------ ##\n",
        "## Use a dictionary to help align reach names ##\n",
        "## ------------------------------------------ ##"
      ],
      "metadata": {
        "id": "OXT1hGtVHrBA"
      },
      "execution_count": null,
      "outputs": []
    },
    {
      "cell_type": "code",
      "source": [
        "## ------------------------------ ##\n",
        "##   Merge into one .csv file     ##\n",
        "## ------------------------------ ##"
      ],
      "metadata": {
        "id": "nitlXMGJH5bk"
      },
      "execution_count": null,
      "outputs": []
    },
    {
      "cell_type": "code",
      "source": [
        "## ------------------------ ##\n",
        "##   Export merged file     ##\n",
        "## ------------------------ ##"
      ],
      "metadata": {
        "id": "F1LAwgkVICL-"
      },
      "execution_count": null,
      "outputs": []
    }
  ]
}