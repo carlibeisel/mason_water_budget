{
  "nbformat": 4,
  "nbformat_minor": 0,
  "metadata": {
    "colab": {
      "provenance": [],
      "authorship_tag": "ABX9TyNZMkDUmu3MXJydpp3N2uC0",
      "include_colab_link": true
    },
    "kernelspec": {
      "name": "python3",
      "display_name": "Python 3"
    },
    "language_info": {
      "name": "python"
    }
  },
  "cells": [
    {
      "cell_type": "markdown",
      "metadata": {
        "id": "view-in-github",
        "colab_type": "text"
      },
      "source": [
        "<a href=\"https://colab.research.google.com/github/carlibeisel/mason_water_budget/blob/main/compile_data.ipynb\" target=\"_parent\"><img src=\"https://colab.research.google.com/assets/colab-badge.svg\" alt=\"Open In Colab\"/></a>"
      ]
    },
    {
      "cell_type": "markdown",
      "source": [
        "Compile data for Water Budget"
      ],
      "metadata": {
        "id": "aKe2ifkteNhc"
      }
    },
    {
      "cell_type": "markdown",
      "source": [
        "**Variables:**\n",
        "\n",
        "*qin* = streamflow at upstream gauge on reach\n",
        "\n",
        "*qout* = streamflow at downstream gauge on reach\n",
        "\n",
        "*sr* = surface runoff from agricultural irrigation\n",
        "\n",
        "*gw* = groundwater\n",
        "\n",
        "*pet* = potential evapotranspiration"
      ],
      "metadata": {
        "id": "SByWyV1YeV8n"
      }
    },
    {
      "cell_type": "code",
      "execution_count": null,
      "metadata": {
        "id": "IVB_80tmeL5F"
      },
      "outputs": [],
      "source": []
    }
  ]
}