{
  "nbformat": 4,
  "nbformat_minor": 0,
  "metadata": {
    "colab": {
      "provenance": [],
      "authorship_tag": "ABX9TyMgmhUTX4YQU2aEoB+KdTnb",
      "include_colab_link": true
    },
    "kernelspec": {
      "name": "python3",
      "display_name": "Python 3"
    },
    "language_info": {
      "name": "python"
    }
  },
  "cells": [
    {
      "cell_type": "markdown",
      "metadata": {
        "id": "view-in-github",
        "colab_type": "text"
      },
      "source": [
        "<a href=\"https://colab.research.google.com/github/carlibeisel/mason_water_budget/blob/main/drainflow.ipynb\" target=\"_parent\"><img src=\"https://colab.research.google.com/assets/colab-badge.svg\" alt=\"Open In Colab\"/></a>"
      ]
    },
    {
      "cell_type": "markdown",
      "source": [
        "Compile and clean drainflow data for each reach."
      ],
      "metadata": {
        "id": "8GNRIrkqfOYL"
      }
    },
    {
      "cell_type": "markdown",
      "source": [
        "**Reach**\n",
        "\n",
        "There are 6 reaches total. 4 on Mason Creek, 1 on Solomon Drain, and 1 on Purdum Drain."
      ],
      "metadata": {
        "id": "n6se6v_wfSAf"
      }
    },
    {
      "cell_type": "code",
      "execution_count": null,
      "metadata": {
        "id": "8AR-PdmVe7at"
      },
      "outputs": [],
      "source": []
    }
  ]
}